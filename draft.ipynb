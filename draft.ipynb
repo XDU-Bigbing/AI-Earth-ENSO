{
 "cells": [
  {
   "cell_type": "markdown",
   "metadata": {},
   "source": [
    "# 此为草稿代码"
   ]
  },
  {
   "cell_type": "markdown",
   "metadata": {},
   "source": [
    " "
   ]
  },
  {
   "cell_type": "markdown",
   "metadata": {},
   "source": [
    " "
   ]
  },
  {
   "cell_type": "markdown",
   "metadata": {},
   "source": [
    " "
   ]
  },
  {
   "cell_type": "markdown",
   "metadata": {},
   "source": [
    "## ConvLSTM 草稿"
   ]
  },
  {
   "cell_type": "code",
   "execution_count": 1,
   "metadata": {},
   "outputs": [],
   "source": [
    "import torch\n",
    "import torch.nn as nn"
   ]
  },
  {
   "cell_type": "code",
   "execution_count": 2,
   "metadata": {},
   "outputs": [],
   "source": [
    "channels = 16          # 通道数\n",
    "hidden_dim = 32        # 隐藏层\n",
    "batch_size = 2         \n",
    "t = 2                  # 序列长度\n",
    "height, width = 2, 2   # 图像宽高"
   ]
  },
  {
   "cell_type": "code",
   "execution_count": 3,
   "metadata": {},
   "outputs": [],
   "source": [
    "conv = nn.Conv2d(in_channels = channels + hidden_dim,\n",
    "                 out_channels = 4 * hidden_dim,          # 所以这里的 4 表示有四个门\n",
    "                 kernel_size=(3, 3),\n",
    "                 padding=(1, 1), \n",
    "                 bias=True)"
   ]
  },
  {
   "cell_type": "code",
   "execution_count": 4,
   "metadata": {},
   "outputs": [
    {
     "name": "stdout",
     "output_type": "stream",
     "text": [
      "torch.Size([2, 16, 2, 2])\n",
      "torch.Size([2, 32, 2, 2])\n",
      "torch.Size([2, 48, 2, 2])\n"
     ]
    }
   ],
   "source": [
    "x = torch.rand((batch_size, t, channels, height, width))\n",
    "h = torch.zeros(batch_size, hidden_dim, height, width)\n",
    "# 取出一个元素\n",
    "x = x[:, 1, :, :, :]\n",
    "print(x.size())\n",
    "print(h.size())\n",
    "# 按照通道维度进行拼接\n",
    "combined = torch.cat([x, h], dim=1)\n",
    "print(combined.size())"
   ]
  },
  {
   "cell_type": "code",
   "execution_count": 5,
   "metadata": {},
   "outputs": [],
   "source": [
    "combined_conv = conv(combined)\n",
    "# 取出四个门的值\n",
    "cc_i, cc_f, cc_o, cc_g = torch.split(combined_conv, hidden_dim, dim=1)"
   ]
  },
  {
   "cell_type": "code",
   "execution_count": 6,
   "metadata": {},
   "outputs": [
    {
     "name": "stdout",
     "output_type": "stream",
     "text": [
      "torch.Size([2, 128, 2, 2])\n"
     ]
    }
   ],
   "source": [
    "# 4 * 32 = 128\n",
    "print(combined_conv.size())"
   ]
  },
  {
   "cell_type": "code",
   "execution_count": 7,
   "metadata": {},
   "outputs": [
    {
     "name": "stdout",
     "output_type": "stream",
     "text": [
      "torch.Size([2, 32, 2, 2])\n",
      "torch.Size([2, 32, 2, 2])\n",
      "torch.Size([2, 32, 2, 2])\n",
      "torch.Size([2, 32, 2, 2])\n"
     ]
    }
   ],
   "source": [
    "print(cc_i.size())\n",
    "print(cc_f.size())\n",
    "print(cc_o.size())\n",
    "print(cc_g.size())"
   ]
  },
  {
   "cell_type": "markdown",
   "metadata": {},
   "source": [
    "## torch.stack 用法\n",
    "\n",
    "所以上一层的输出 stack 后，能输入到下一层"
   ]
  },
  {
   "cell_type": "code",
   "execution_count": 8,
   "metadata": {},
   "outputs": [
    {
     "name": "stdout",
     "output_type": "stream",
     "text": [
      "torch.Size([32, 2, 64, 128, 128])\n"
     ]
    }
   ],
   "source": [
    "a = torch.rand((32, 64, 128, 128))\n",
    "b = torch.rand((32, 64, 128, 128))\n",
    "ls = []\n",
    "ls.append(a)\n",
    "ls.append(b)\n",
    "a = torch.stack(ls, dim=1)\n",
    "print(a.size())"
   ]
  },
  {
   "cell_type": "code",
   "execution_count": null,
   "metadata": {},
   "outputs": [],
   "source": []
  }
 ],
 "metadata": {
  "kernelspec": {
   "display_name": "Python 3.8.1 64-bit",
   "language": "python",
   "name": "python38164bit74e788ddf57a4ea49f8b844863cca0e7"
  },
  "language_info": {
   "codemirror_mode": {
    "name": "ipython",
    "version": 3
   },
   "file_extension": ".py",
   "mimetype": "text/x-python",
   "name": "python",
   "nbconvert_exporter": "python",
   "pygments_lexer": "ipython3",
   "version": "3.8.1"
  }
 },
 "nbformat": 4,
 "nbformat_minor": 4
}
