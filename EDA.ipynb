{
 "cells": [
  {
   "cell_type": "code",
   "execution_count": 7,
   "metadata": {},
   "outputs": [],
   "source": [
    "import netCDF4 as nc\n",
    "import numpy as np\n",
    "import pandas as pd"
   ]
  },
  {
   "cell_type": "markdown",
   "metadata": {},
   "source": [
    "# 训练数据"
   ]
  },
  {
   "cell_type": "code",
   "execution_count": 9,
   "metadata": {},
   "outputs": [],
   "source": [
    "FILEPATH = 'data/SODA_train.nc'\n",
    "FILE = nc.Dataset(FILEPATH)"
   ]
  },
  {
   "cell_type": "code",
   "execution_count": 10,
   "metadata": {},
   "outputs": [
    {
     "data": {
      "text/plain": [
       "<class 'netCDF4._netCDF4.Dataset'>\n",
       "root group (NETCDF4 data model, file format HDF5):\n",
       "    dimensions(sizes): year(100), month(36), lat(24), lon(72)\n",
       "    variables(dimensions): float32 sst(year, month, lat, lon), float32 t300(year, month, lat, lon), float64 ua(year, month, lat, lon), float64 va(year, month, lat, lon), int32 year(year), int32 month(month), float64 lat(lat), float64 lon(lon)\n",
       "    groups: "
      ]
     },
     "execution_count": 10,
     "metadata": {},
     "output_type": "execute_result"
    }
   ],
   "source": [
    "FILE"
   ]
  },
  {
   "cell_type": "markdown",
   "metadata": {},
   "source": [
    "### 变量含义：温度异常，热含量异常，纬向风异常，经向风异常，年，月，经度，纬度"
   ]
  },
  {
   "cell_type": "code",
   "execution_count": 11,
   "metadata": {},
   "outputs": [
    {
     "data": {
      "text/plain": [
       "dict_keys(['sst', 't300', 'ua', 'va', 'year', 'month', 'lat', 'lon'])"
      ]
     },
     "execution_count": 11,
     "metadata": {},
     "output_type": "execute_result"
    }
   ],
   "source": [
    "FILE.variables.keys()"
   ]
  },
  {
   "cell_type": "markdown",
   "metadata": {},
   "source": [
    "### 数据维度 ：year, month, lat, lon"
   ]
  },
  {
   "cell_type": "code",
   "execution_count": 12,
   "metadata": {},
   "outputs": [
    {
     "data": {
      "text/plain": [
       "{'sst': <class 'netCDF4._netCDF4.Variable'>\n",
       " float32 sst(year, month, lat, lon)\n",
       "     _FillValue: nan\n",
       " unlimited dimensions: \n",
       " current shape = (100, 36, 24, 72)\n",
       " filling on, 't300': <class 'netCDF4._netCDF4.Variable'>\n",
       " float32 t300(year, month, lat, lon)\n",
       "     _FillValue: nan\n",
       " unlimited dimensions: \n",
       " current shape = (100, 36, 24, 72)\n",
       " filling on, 'ua': <class 'netCDF4._netCDF4.Variable'>\n",
       " float64 ua(year, month, lat, lon)\n",
       "     _FillValue: nan\n",
       " unlimited dimensions: \n",
       " current shape = (100, 36, 24, 72)\n",
       " filling on, 'va': <class 'netCDF4._netCDF4.Variable'>\n",
       " float64 va(year, month, lat, lon)\n",
       "     _FillValue: nan\n",
       " unlimited dimensions: \n",
       " current shape = (100, 36, 24, 72)\n",
       " filling on, 'year': <class 'netCDF4._netCDF4.Variable'>\n",
       " int32 year(year)\n",
       " unlimited dimensions: \n",
       " current shape = (100,)\n",
       " filling on, default _FillValue of -2147483647 used, 'month': <class 'netCDF4._netCDF4.Variable'>\n",
       " int32 month(month)\n",
       " unlimited dimensions: \n",
       " current shape = (36,)\n",
       " filling on, default _FillValue of -2147483647 used, 'lat': <class 'netCDF4._netCDF4.Variable'>\n",
       " float64 lat(lat)\n",
       "     _FillValue: nan\n",
       " unlimited dimensions: \n",
       " current shape = (24,)\n",
       " filling on, 'lon': <class 'netCDF4._netCDF4.Variable'>\n",
       " float64 lon(lon)\n",
       "     _FillValue: nan\n",
       " unlimited dimensions: \n",
       " current shape = (72,)\n",
       " filling on}"
      ]
     },
     "execution_count": 12,
     "metadata": {},
     "output_type": "execute_result"
    }
   ],
   "source": [
    "FILE.variables"
   ]
  },
  {
   "cell_type": "markdown",
   "metadata": {},
   "source": [
    "### 查看温度异常数据"
   ]
  },
  {
   "cell_type": "code",
   "execution_count": 13,
   "metadata": {},
   "outputs": [],
   "source": [
    "sst = FILE['sst']"
   ]
  },
  {
   "cell_type": "code",
   "execution_count": 14,
   "metadata": {},
   "outputs": [
    {
     "data": {
      "text/plain": [
       "<class 'netCDF4._netCDF4.Variable'>\n",
       "float32 sst(year, month, lat, lon)\n",
       "    _FillValue: nan\n",
       "unlimited dimensions: \n",
       "current shape = (100, 36, 24, 72)\n",
       "filling on"
      ]
     },
     "execution_count": 14,
     "metadata": {},
     "output_type": "execute_result"
    }
   ],
   "source": [
    "sst"
   ]
  },
  {
   "cell_type": "code",
   "execution_count": 15,
   "metadata": {},
   "outputs": [],
   "source": [
    "sst_data = sst[:]"
   ]
  },
  {
   "cell_type": "code",
   "execution_count": 16,
   "metadata": {},
   "outputs": [
    {
     "data": {
      "text/plain": [
       "(100, 36, 24, 72)"
      ]
     },
     "execution_count": 16,
     "metadata": {},
     "output_type": "execute_result"
    }
   ],
   "source": [
    "sst_data.shape"
   ]
  },
  {
   "cell_type": "markdown",
   "metadata": {},
   "source": [
    "### 取出这个维度的数据\n",
    "\n",
    "另外，如果数据异常，则：真实值 = 打包值 * scale_factor + add_offset"
   ]
  },
  {
   "cell_type": "code",
   "execution_count": 18,
   "metadata": {},
   "outputs": [
    {
     "data": {
      "text/plain": [
       "1.6091517"
      ]
     },
     "execution_count": 18,
     "metadata": {},
     "output_type": "execute_result"
    }
   ],
   "source": [
    "sst_data[0, 0, 1, 1]"
   ]
  },
  {
   "cell_type": "markdown",
   "metadata": {},
   "source": [
    "### 纬度数据\n",
    "\n",
    "南纬是负，北纬是正，东经是正，西经是负"
   ]
  },
  {
   "cell_type": "code",
   "execution_count": 19,
   "metadata": {},
   "outputs": [],
   "source": [
    "lat_data = FILE.variables['lat'][:]"
   ]
  },
  {
   "cell_type": "code",
   "execution_count": 20,
   "metadata": {},
   "outputs": [
    {
     "data": {
      "text/plain": [
       "(24,)"
      ]
     },
     "execution_count": 20,
     "metadata": {},
     "output_type": "execute_result"
    }
   ],
   "source": [
    "lat_data.shape"
   ]
  },
  {
   "cell_type": "code",
   "execution_count": 22,
   "metadata": {},
   "outputs": [
    {
     "data": {
      "text/plain": [
       "masked_array(data=[-55., -50., -45., -40., -35., -30., -25., -20., -15.,\n",
       "                   -10.,  -5.,   0.,   5.,  10.,  15.,  20.,  25.,  30.,\n",
       "                    35.,  40.,  45.,  50.,  55.,  60.],\n",
       "             mask=False,\n",
       "       fill_value=1e+20)"
      ]
     },
     "execution_count": 22,
     "metadata": {},
     "output_type": "execute_result"
    }
   ],
   "source": [
    "lat_data"
   ]
  },
  {
   "cell_type": "markdown",
   "metadata": {},
   "source": [
    "### 经度数据"
   ]
  },
  {
   "cell_type": "code",
   "execution_count": 24,
   "metadata": {},
   "outputs": [
    {
     "data": {
      "text/plain": [
       "masked_array(data=[  0.,   5.,  10.,  15.,  20.,  25.,  30.,  35.,  40.,\n",
       "                    45.,  50.,  55.,  60.,  65.,  70.,  75.,  80.,  85.,\n",
       "                    90.,  95., 100., 105., 110., 115., 120., 125., 130.,\n",
       "                   135., 140., 145., 150., 155., 160., 165., 170., 175.,\n",
       "                   180., 185., 190., 195., 200., 205., 210., 215., 220.,\n",
       "                   225., 230., 235., 240., 245., 250., 255., 260., 265.,\n",
       "                   270., 275., 280., 285., 290., 295., 300., 305., 310.,\n",
       "                   315., 320., 325., 330., 335., 340., 345., 350., 355.],\n",
       "             mask=False,\n",
       "       fill_value=1e+20)"
      ]
     },
     "execution_count": 24,
     "metadata": {},
     "output_type": "execute_result"
    }
   ],
   "source": [
    "lon = FILE.variables['lon'][:]\n",
    "lon.shape\n",
    "lon"
   ]
  },
  {
   "cell_type": "markdown",
   "metadata": {},
   "source": [
    "### 年份\n",
    "\n",
    "注意：15 个为一组模式"
   ]
  },
  {
   "cell_type": "code",
   "execution_count": 26,
   "metadata": {},
   "outputs": [],
   "source": [
    "year_data = FILE.variables['year'][:]"
   ]
  },
  {
   "cell_type": "code",
   "execution_count": 27,
   "metadata": {},
   "outputs": [
    {
     "data": {
      "text/plain": [
       "masked_array(data=[  1,   2,   3,   4,   5,   6,   7,   8,   9,  10,  11,\n",
       "                    12,  13,  14,  15,  16,  17,  18,  19,  20,  21,  22,\n",
       "                    23,  24,  25,  26,  27,  28,  29,  30,  31,  32,  33,\n",
       "                    34,  35,  36,  37,  38,  39,  40,  41,  42,  43,  44,\n",
       "                    45,  46,  47,  48,  49,  50,  51,  52,  53,  54,  55,\n",
       "                    56,  57,  58,  59,  60,  61,  62,  63,  64,  65,  66,\n",
       "                    67,  68,  69,  70,  71,  72,  73,  74,  75,  76,  77,\n",
       "                    78,  79,  80,  81,  82,  83,  84,  85,  86,  87,  88,\n",
       "                    89,  90,  91,  92,  93,  94,  95,  96,  97,  98,  99,\n",
       "                   100],\n",
       "             mask=False,\n",
       "       fill_value=999999)"
      ]
     },
     "execution_count": 27,
     "metadata": {},
     "output_type": "execute_result"
    }
   ],
   "source": [
    "year_data.shape\n",
    "year_data"
   ]
  },
  {
   "cell_type": "markdown",
   "metadata": {},
   "source": [
    "# 测试数据"
   ]
  },
  {
   "cell_type": "code",
   "execution_count": 31,
   "metadata": {},
   "outputs": [],
   "source": [
    "LABELPATH = 'data/SODA_label.nc'\n",
    "LAEBL_FILE = nc.Dataset(LABELPATH)"
   ]
  },
  {
   "cell_type": "code",
   "execution_count": 32,
   "metadata": {},
   "outputs": [
    {
     "data": {
      "text/plain": [
       "<class 'netCDF4._netCDF4.Dataset'>\n",
       "root group (NETCDF4 data model, file format HDF5):\n",
       "    dimensions(sizes): year(100), month(36)\n",
       "    variables(dimensions): float64 nino(year, month), int32 year(year), int32 month(month)\n",
       "    groups: "
      ]
     },
     "execution_count": 32,
     "metadata": {},
     "output_type": "execute_result"
    }
   ],
   "source": [
    "LAEBL_FILE"
   ]
  },
  {
   "cell_type": "code",
   "execution_count": 34,
   "metadata": {},
   "outputs": [
    {
     "data": {
      "text/plain": [
       "dict_keys(['nino', 'year', 'month'])"
      ]
     },
     "execution_count": 34,
     "metadata": {},
     "output_type": "execute_result"
    }
   ],
   "source": [
    "LAEBL_FILE.variables.keys()"
   ]
  },
  {
   "cell_type": "code",
   "execution_count": 35,
   "metadata": {},
   "outputs": [],
   "source": [
    "nino_data = LAEBL_FILE.variables['nino'][:]"
   ]
  },
  {
   "cell_type": "code",
   "execution_count": 37,
   "metadata": {},
   "outputs": [
    {
     "data": {
      "text/plain": [
       "(100, 36)"
      ]
     },
     "execution_count": 37,
     "metadata": {},
     "output_type": "execute_result"
    }
   ],
   "source": [
    "nino_data.shape"
   ]
  },
  {
   "cell_type": "markdown",
   "metadata": {},
   "source": [
    "### 第一年，第一个模式，这 36 个月的异常指数"
   ]
  },
  {
   "cell_type": "code",
   "execution_count": 44,
   "metadata": {},
   "outputs": [
    {
     "data": {
      "text/plain": [
       "masked_array(data=[-0.40720701, -0.20244436, -0.10386104, -0.02910841,\n",
       "                   -0.13252996, -0.25527564, -0.3326247 , -0.26293179,\n",
       "                   -0.08058987,  0.10612228,  0.21165498,  0.16504486,\n",
       "                    0.06697161,  0.00999126, -0.00164753, -0.06598581,\n",
       "                   -0.14728385, -0.1915542 , -0.17029583, -0.19376083,\n",
       "                   -0.27808595, -0.39393583, -0.49975768, -0.58400702,\n",
       "                   -0.73201811, -0.72508991, -0.58416802, -0.31754819,\n",
       "                   -0.12046373, -0.03802495,  0.013173  ,  0.06823147,\n",
       "                    0.0597352 ,  0.02755602,  0.011619  , -0.04931002],\n",
       "             mask=False,\n",
       "       fill_value=1e+20)"
      ]
     },
     "execution_count": 44,
     "metadata": {},
     "output_type": "execute_result"
    }
   ],
   "source": [
    "nino_data[0]"
   ]
  },
  {
   "cell_type": "markdown",
   "metadata": {},
   "source": [
    "# 待做"
   ]
  },
  {
   "cell_type": "markdown",
   "metadata": {},
   "source": [
    "- [ ] 填充数据的处理，或者说，看看有多少填充数据，如何处理这些数据"
   ]
  },
  {
   "cell_type": "code",
   "execution_count": null,
   "metadata": {},
   "outputs": [],
   "source": []
  }
 ],
 "metadata": {
  "kernelspec": {
   "display_name": "Python 3",
   "language": "python",
   "name": "python3"
  },
  "language_info": {
   "name": ""
  }
 },
 "nbformat": 4,
 "nbformat_minor": 4
}
