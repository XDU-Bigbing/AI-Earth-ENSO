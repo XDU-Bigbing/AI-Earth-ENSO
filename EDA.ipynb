{
 "cells": [
  {
   "cell_type": "markdown",
   "metadata": {},
   "source": [
    "# 这里是练习代码，正式代码在下文"
   ]
  },
  {
   "cell_type": "code",
   "execution_count": 7,
   "metadata": {},
   "outputs": [],
   "source": [
    "import netCDF4 as nc\n",
    "import numpy as np\n",
    "import pandas as pd"
   ]
  },
  {
   "cell_type": "markdown",
   "metadata": {},
   "source": [
    "# 训练数据"
   ]
  },
  {
   "cell_type": "code",
   "execution_count": 9,
   "metadata": {},
   "outputs": [],
   "source": [
    "FILEPATH = 'data/SODA_train.nc'\n",
    "FILE = nc.Dataset(FILEPATH)"
   ]
  },
  {
   "cell_type": "code",
   "execution_count": 10,
   "metadata": {},
   "outputs": [
    {
     "data": {
      "text/plain": [
       "<class 'netCDF4._netCDF4.Dataset'>\n",
       "root group (NETCDF4 data model, file format HDF5):\n",
       "    dimensions(sizes): year(100), month(36), lat(24), lon(72)\n",
       "    variables(dimensions): float32 sst(year, month, lat, lon), float32 t300(year, month, lat, lon), float64 ua(year, month, lat, lon), float64 va(year, month, lat, lon), int32 year(year), int32 month(month), float64 lat(lat), float64 lon(lon)\n",
       "    groups: "
      ]
     },
     "execution_count": 10,
     "metadata": {},
     "output_type": "execute_result"
    }
   ],
   "source": [
    "FILE"
   ]
  },
  {
   "cell_type": "markdown",
   "metadata": {},
   "source": [
    "### 变量含义：温度异常，热含量异常，纬向风异常，经向风异常，年，月，经度，纬度"
   ]
  },
  {
   "cell_type": "code",
   "execution_count": 11,
   "metadata": {},
   "outputs": [
    {
     "data": {
      "text/plain": [
       "dict_keys(['sst', 't300', 'ua', 'va', 'year', 'month', 'lat', 'lon'])"
      ]
     },
     "execution_count": 11,
     "metadata": {},
     "output_type": "execute_result"
    }
   ],
   "source": [
    "FILE.variables.keys()"
   ]
  },
  {
   "cell_type": "markdown",
   "metadata": {},
   "source": [
    "### 数据维度 ：year, month, lat, lon"
   ]
  },
  {
   "cell_type": "code",
   "execution_count": 12,
   "metadata": {},
   "outputs": [
    {
     "data": {
      "text/plain": [
       "{'sst': <class 'netCDF4._netCDF4.Variable'>\n",
       " float32 sst(year, month, lat, lon)\n",
       "     _FillValue: nan\n",
       " unlimited dimensions: \n",
       " current shape = (100, 36, 24, 72)\n",
       " filling on, 't300': <class 'netCDF4._netCDF4.Variable'>\n",
       " float32 t300(year, month, lat, lon)\n",
       "     _FillValue: nan\n",
       " unlimited dimensions: \n",
       " current shape = (100, 36, 24, 72)\n",
       " filling on, 'ua': <class 'netCDF4._netCDF4.Variable'>\n",
       " float64 ua(year, month, lat, lon)\n",
       "     _FillValue: nan\n",
       " unlimited dimensions: \n",
       " current shape = (100, 36, 24, 72)\n",
       " filling on, 'va': <class 'netCDF4._netCDF4.Variable'>\n",
       " float64 va(year, month, lat, lon)\n",
       "     _FillValue: nan\n",
       " unlimited dimensions: \n",
       " current shape = (100, 36, 24, 72)\n",
       " filling on, 'year': <class 'netCDF4._netCDF4.Variable'>\n",
       " int32 year(year)\n",
       " unlimited dimensions: \n",
       " current shape = (100,)\n",
       " filling on, default _FillValue of -2147483647 used, 'month': <class 'netCDF4._netCDF4.Variable'>\n",
       " int32 month(month)\n",
       " unlimited dimensions: \n",
       " current shape = (36,)\n",
       " filling on, default _FillValue of -2147483647 used, 'lat': <class 'netCDF4._netCDF4.Variable'>\n",
       " float64 lat(lat)\n",
       "     _FillValue: nan\n",
       " unlimited dimensions: \n",
       " current shape = (24,)\n",
       " filling on, 'lon': <class 'netCDF4._netCDF4.Variable'>\n",
       " float64 lon(lon)\n",
       "     _FillValue: nan\n",
       " unlimited dimensions: \n",
       " current shape = (72,)\n",
       " filling on}"
      ]
     },
     "execution_count": 12,
     "metadata": {},
     "output_type": "execute_result"
    }
   ],
   "source": [
    "FILE.variables"
   ]
  },
  {
   "cell_type": "markdown",
   "metadata": {},
   "source": [
    "### 查看温度异常数据"
   ]
  },
  {
   "cell_type": "code",
   "execution_count": 13,
   "metadata": {},
   "outputs": [],
   "source": [
    "sst = FILE['sst']"
   ]
  },
  {
   "cell_type": "code",
   "execution_count": 14,
   "metadata": {},
   "outputs": [
    {
     "data": {
      "text/plain": [
       "<class 'netCDF4._netCDF4.Variable'>\n",
       "float32 sst(year, month, lat, lon)\n",
       "    _FillValue: nan\n",
       "unlimited dimensions: \n",
       "current shape = (100, 36, 24, 72)\n",
       "filling on"
      ]
     },
     "execution_count": 14,
     "metadata": {},
     "output_type": "execute_result"
    }
   ],
   "source": [
    "sst"
   ]
  },
  {
   "cell_type": "code",
   "execution_count": 15,
   "metadata": {},
   "outputs": [],
   "source": [
    "sst_data = sst[:]"
   ]
  },
  {
   "cell_type": "code",
   "execution_count": 16,
   "metadata": {},
   "outputs": [
    {
     "data": {
      "text/plain": [
       "(100, 36, 24, 72)"
      ]
     },
     "execution_count": 16,
     "metadata": {},
     "output_type": "execute_result"
    }
   ],
   "source": [
    "sst_data.shape"
   ]
  },
  {
   "cell_type": "markdown",
   "metadata": {},
   "source": [
    "### 取出这个维度的数据\n",
    "\n",
    "另外，如果数据异常，则：真实值 = 打包值 * scale_factor + add_offset"
   ]
  },
  {
   "cell_type": "code",
   "execution_count": 18,
   "metadata": {},
   "outputs": [
    {
     "data": {
      "text/plain": [
       "1.6091517"
      ]
     },
     "execution_count": 18,
     "metadata": {},
     "output_type": "execute_result"
    }
   ],
   "source": [
    "sst_data[0, 0, 1, 1]"
   ]
  },
  {
   "cell_type": "markdown",
   "metadata": {},
   "source": [
    "### 纬度数据\n",
    "\n",
    "南纬是负，北纬是正，东经是正，西经是负"
   ]
  },
  {
   "cell_type": "code",
   "execution_count": 19,
   "metadata": {},
   "outputs": [],
   "source": [
    "lat_data = FILE.variables['lat'][:]"
   ]
  },
  {
   "cell_type": "code",
   "execution_count": 20,
   "metadata": {},
   "outputs": [
    {
     "data": {
      "text/plain": [
       "(24,)"
      ]
     },
     "execution_count": 20,
     "metadata": {},
     "output_type": "execute_result"
    }
   ],
   "source": [
    "lat_data.shape"
   ]
  },
  {
   "cell_type": "code",
   "execution_count": 22,
   "metadata": {},
   "outputs": [
    {
     "data": {
      "text/plain": [
       "masked_array(data=[-55., -50., -45., -40., -35., -30., -25., -20., -15.,\n",
       "                   -10.,  -5.,   0.,   5.,  10.,  15.,  20.,  25.,  30.,\n",
       "                    35.,  40.,  45.,  50.,  55.,  60.],\n",
       "             mask=False,\n",
       "       fill_value=1e+20)"
      ]
     },
     "execution_count": 22,
     "metadata": {},
     "output_type": "execute_result"
    }
   ],
   "source": [
    "lat_data"
   ]
  },
  {
   "cell_type": "markdown",
   "metadata": {},
   "source": [
    "### 经度数据"
   ]
  },
  {
   "cell_type": "code",
   "execution_count": 24,
   "metadata": {},
   "outputs": [
    {
     "data": {
      "text/plain": [
       "masked_array(data=[  0.,   5.,  10.,  15.,  20.,  25.,  30.,  35.,  40.,\n",
       "                    45.,  50.,  55.,  60.,  65.,  70.,  75.,  80.,  85.,\n",
       "                    90.,  95., 100., 105., 110., 115., 120., 125., 130.,\n",
       "                   135., 140., 145., 150., 155., 160., 165., 170., 175.,\n",
       "                   180., 185., 190., 195., 200., 205., 210., 215., 220.,\n",
       "                   225., 230., 235., 240., 245., 250., 255., 260., 265.,\n",
       "                   270., 275., 280., 285., 290., 295., 300., 305., 310.,\n",
       "                   315., 320., 325., 330., 335., 340., 345., 350., 355.],\n",
       "             mask=False,\n",
       "       fill_value=1e+20)"
      ]
     },
     "execution_count": 24,
     "metadata": {},
     "output_type": "execute_result"
    }
   ],
   "source": [
    "lon = FILE.variables['lon'][:]\n",
    "lon.shape\n",
    "lon"
   ]
  },
  {
   "cell_type": "markdown",
   "metadata": {},
   "source": [
    "### 年份\n",
    "\n",
    "注意：15 个为一组模式"
   ]
  },
  {
   "cell_type": "code",
   "execution_count": 26,
   "metadata": {},
   "outputs": [],
   "source": [
    "year_data = FILE.variables['year'][:]"
   ]
  },
  {
   "cell_type": "code",
   "execution_count": 27,
   "metadata": {},
   "outputs": [
    {
     "data": {
      "text/plain": [
       "masked_array(data=[  1,   2,   3,   4,   5,   6,   7,   8,   9,  10,  11,\n",
       "                    12,  13,  14,  15,  16,  17,  18,  19,  20,  21,  22,\n",
       "                    23,  24,  25,  26,  27,  28,  29,  30,  31,  32,  33,\n",
       "                    34,  35,  36,  37,  38,  39,  40,  41,  42,  43,  44,\n",
       "                    45,  46,  47,  48,  49,  50,  51,  52,  53,  54,  55,\n",
       "                    56,  57,  58,  59,  60,  61,  62,  63,  64,  65,  66,\n",
       "                    67,  68,  69,  70,  71,  72,  73,  74,  75,  76,  77,\n",
       "                    78,  79,  80,  81,  82,  83,  84,  85,  86,  87,  88,\n",
       "                    89,  90,  91,  92,  93,  94,  95,  96,  97,  98,  99,\n",
       "                   100],\n",
       "             mask=False,\n",
       "       fill_value=999999)"
      ]
     },
     "execution_count": 27,
     "metadata": {},
     "output_type": "execute_result"
    }
   ],
   "source": [
    "year_data.shape\n",
    "year_data"
   ]
  },
  {
   "cell_type": "markdown",
   "metadata": {},
   "source": [
    "# 测试数据"
   ]
  },
  {
   "cell_type": "code",
   "execution_count": 31,
   "metadata": {},
   "outputs": [],
   "source": [
    "LABELPATH = 'data/SODA_label.nc'\n",
    "LAEBL_FILE = nc.Dataset(LABELPATH)"
   ]
  },
  {
   "cell_type": "code",
   "execution_count": 32,
   "metadata": {},
   "outputs": [
    {
     "data": {
      "text/plain": [
       "<class 'netCDF4._netCDF4.Dataset'>\n",
       "root group (NETCDF4 data model, file format HDF5):\n",
       "    dimensions(sizes): year(100), month(36)\n",
       "    variables(dimensions): float64 nino(year, month), int32 year(year), int32 month(month)\n",
       "    groups: "
      ]
     },
     "execution_count": 32,
     "metadata": {},
     "output_type": "execute_result"
    }
   ],
   "source": [
    "LAEBL_FILE"
   ]
  },
  {
   "cell_type": "code",
   "execution_count": 34,
   "metadata": {},
   "outputs": [
    {
     "data": {
      "text/plain": [
       "dict_keys(['nino', 'year', 'month'])"
      ]
     },
     "execution_count": 34,
     "metadata": {},
     "output_type": "execute_result"
    }
   ],
   "source": [
    "LAEBL_FILE.variables.keys()"
   ]
  },
  {
   "cell_type": "code",
   "execution_count": 35,
   "metadata": {},
   "outputs": [],
   "source": [
    "nino_data = LAEBL_FILE.variables['nino'][:]"
   ]
  },
  {
   "cell_type": "code",
   "execution_count": 37,
   "metadata": {},
   "outputs": [
    {
     "data": {
      "text/plain": [
       "(100, 36)"
      ]
     },
     "execution_count": 37,
     "metadata": {},
     "output_type": "execute_result"
    }
   ],
   "source": [
    "nino_data.shape"
   ]
  },
  {
   "cell_type": "markdown",
   "metadata": {},
   "source": [
    "### 第一年，第一个模式，这 36 个月的异常指数"
   ]
  },
  {
   "cell_type": "code",
   "execution_count": 44,
   "metadata": {},
   "outputs": [
    {
     "data": {
      "text/plain": [
       "masked_array(data=[-0.40720701, -0.20244436, -0.10386104, -0.02910841,\n",
       "                   -0.13252996, -0.25527564, -0.3326247 , -0.26293179,\n",
       "                   -0.08058987,  0.10612228,  0.21165498,  0.16504486,\n",
       "                    0.06697161,  0.00999126, -0.00164753, -0.06598581,\n",
       "                   -0.14728385, -0.1915542 , -0.17029583, -0.19376083,\n",
       "                   -0.27808595, -0.39393583, -0.49975768, -0.58400702,\n",
       "                   -0.73201811, -0.72508991, -0.58416802, -0.31754819,\n",
       "                   -0.12046373, -0.03802495,  0.013173  ,  0.06823147,\n",
       "                    0.0597352 ,  0.02755602,  0.011619  , -0.04931002],\n",
       "             mask=False,\n",
       "       fill_value=1e+20)"
      ]
     },
     "execution_count": 44,
     "metadata": {},
     "output_type": "execute_result"
    }
   ],
   "source": [
    "nino_data[0]"
   ]
  },
  {
   "cell_type": "markdown",
   "metadata": {},
   "source": [
    "# 待做"
   ]
  },
  {
   "cell_type": "markdown",
   "metadata": {},
   "source": [
    "- [ ] 填充数据的处理，或者说，看看有多少填充数据，如何处理这些数据"
   ]
  },
  {
   "cell_type": "markdown",
   "metadata": {},
   "source": [
    " "
   ]
  },
  {
   "cell_type": "markdown",
   "metadata": {},
   "source": [
    " "
   ]
  },
  {
   "cell_type": "markdown",
   "metadata": {},
   "source": [
    " "
   ]
  },
  {
   "cell_type": "markdown",
   "metadata": {},
   "source": [
    "# 正式代码"
   ]
  },
  {
   "cell_type": "markdown",
   "metadata": {},
   "source": [
    "# SODA 数据集 EDA"
   ]
  },
  {
   "cell_type": "code",
   "execution_count": 1,
   "metadata": {},
   "outputs": [],
   "source": [
    "import netCDF4 as nc\n",
    "import numpy as np\n",
    "import pandas as pd\n",
    "from collections import Counter\n",
    "import matplotlib.pyplot as plt"
   ]
  },
  {
   "cell_type": "code",
   "execution_count": 2,
   "metadata": {},
   "outputs": [],
   "source": [
    "FILEPATH = 'data/SODA_train.nc'\n",
    "FILE = nc.Dataset(FILEPATH)"
   ]
  },
  {
   "cell_type": "markdown",
   "metadata": {},
   "source": [
    "## 查看数据维度"
   ]
  },
  {
   "cell_type": "code",
   "execution_count": 3,
   "metadata": {},
   "outputs": [
    {
     "name": "stdout",
     "output_type": "stream",
     "text": [
      "sst   data shape is : (100, 36, 24, 72)\n",
      "t300  data shape is : (100, 36, 24, 72)\n",
      "ua    data shape is : (100, 36, 24, 72)\n",
      "va    data shape is : (100, 36, 24, 72)\n",
      "year  data shape is : (100,)\n",
      "month data shape is : (36,)\n",
      "lat   data shape is : (24,)\n",
      "lon   data shape is : (72,)\n"
     ]
    }
   ],
   "source": [
    "for key in FILE.variables.keys():\n",
    "    print('{:<5}'.format(key), end=' data shape is : ')\n",
    "    print(FILE.variables[key][:].shape)"
   ]
  },
  {
   "cell_type": "markdown",
   "metadata": {},
   "source": [
    "## 填充值处理"
   ]
  },
  {
   "cell_type": "code",
   "execution_count": 4,
   "metadata": {},
   "outputs": [
    {
     "name": "stdout",
     "output_type": "stream",
     "text": [
      "sst   has filled value, which is nan, the number of filled value is 0\n",
      "t300  has filled value, which is nan, the number of filled value is 0\n",
      "ua    has filled value, which is nan, the number of filled value is 0\n",
      "va    has filled value, which is nan, the number of filled value is 0\n",
      "year  doesn't has filled value\n",
      "month doesn't has filled value\n",
      "lat   has filled value, which is nan, the number of filled value is 0\n",
      "lon   has filled value, which is nan, the number of filled value is 0\n"
     ]
    }
   ],
   "source": [
    "for key in FILE.variables.keys():\n",
    "    a = FILE[key]\n",
    "    if hasattr(a, '_FillValue'):\n",
    "        print('{:<5} has filled value, which is {}'.format(key, a._FillValue), end=', ')\n",
    "        print('the number of filled value is {}'.format(np.isnan(np.array(FILE.variables[key][:])).sum()))\n",
    "    else:\n",
    "        print('{:<5} doesn\\'t has filled value'.format(key))"
   ]
  },
  {
   "cell_type": "markdown",
   "metadata": {},
   "source": [
    "## 年份处理"
   ]
  },
  {
   "cell_type": "markdown",
   "metadata": {},
   "source": [
    "查看数据一共有多少年的"
   ]
  },
  {
   "cell_type": "code",
   "execution_count": 5,
   "metadata": {},
   "outputs": [
    {
     "name": "stdout",
     "output_type": "stream",
     "text": [
      "100 years in total.\n"
     ]
    }
   ],
   "source": [
    "year_data = np.array(FILE.variables['year'][:])\n",
    "print(\"{} years in total.\".format(len(year_data)))"
   ]
  },
  {
   "cell_type": "markdown",
   "metadata": {},
   "source": [
    "有无重复年"
   ]
  },
  {
   "cell_type": "code",
   "execution_count": 6,
   "metadata": {},
   "outputs": [
    {
     "name": "stdout",
     "output_type": "stream",
     "text": [
      "All year variables appear once. \n"
     ]
    }
   ],
   "source": [
    "year_cnt = Counter(year_data.flatten())\n",
    "year_flag = 0\n",
    "for key, value in year_cnt.items():\n",
    "    if value > 1:\n",
    "        year_flag = 1\n",
    "        print(\"{} appears {} times\".format(key, value))\n",
    "if year_flag == 0:\n",
    "    print('All year variables appear once. ')"
   ]
  },
  {
   "cell_type": "markdown",
   "metadata": {},
   "source": [
    "## 月份处理\n",
    "\n",
    "内容同上"
   ]
  },
  {
   "cell_type": "code",
   "execution_count": 7,
   "metadata": {},
   "outputs": [
    {
     "name": "stdout",
     "output_type": "stream",
     "text": [
      "36 months in total.\n"
     ]
    }
   ],
   "source": [
    "month_data = np.array(FILE.variables['month'][:])\n",
    "print(\"{} months in total.\".format(len(month_data)))"
   ]
  },
  {
   "cell_type": "code",
   "execution_count": 8,
   "metadata": {},
   "outputs": [
    {
     "name": "stdout",
     "output_type": "stream",
     "text": [
      "All month variables appear once. \n"
     ]
    }
   ],
   "source": [
    "month_cnt = Counter(month_data.flatten())\n",
    "month_flag = 0\n",
    "for key, value in month_cnt.items():\n",
    "    if value > 1:\n",
    "        month_flag = 1\n",
    "        print(\"{} appears {} times\".format(key, value))\n",
    "if month_flag == 0:\n",
    "    print('All month variables appear once. ')"
   ]
  },
  {
   "cell_type": "markdown",
   "metadata": {},
   "source": [
    "## 经度处理"
   ]
  },
  {
   "cell_type": "code",
   "execution_count": 9,
   "metadata": {},
   "outputs": [],
   "source": [
    "lon_data = pd.DataFrame({'value' : np.array(FILE.variables['lon'][:])})\n",
    "# 经度分为 10 个区间\n",
    "quartiles = pd.cut(lon_data.value, 10, precision=0)"
   ]
  },
  {
   "cell_type": "code",
   "execution_count": 10,
   "metadata": {},
   "outputs": [
    {
     "name": "stdout",
     "output_type": "stream",
     "text": [
      "longitude distribution is : \n",
      "                distribution : \n",
      "value                          \n",
      "(-0.0, 36.0]                  8\n",
      "(36.0, 71.0]                  7\n",
      "(71.0, 106.0]                 7\n",
      "(106.0, 142.0]                7\n",
      "(142.0, 178.0]                7\n",
      "(178.0, 213.0]                7\n",
      "(213.0, 248.0]                7\n",
      "(248.0, 284.0]                7\n",
      "(284.0, 320.0]                7\n",
      "(320.0, 355.0]                8\n"
     ]
    }
   ],
   "source": [
    "lon_grouped = lon_data.value.groupby(quartiles)\n",
    "def get_status(group):\n",
    "    return {'distribution : ' : group.count()}\n",
    "print('longitude distribution is : ')\n",
    "print(lon_grouped.apply(get_status).unstack())"
   ]
  },
  {
   "cell_type": "markdown",
   "metadata": {},
   "source": [
    "## 纬度处理"
   ]
  },
  {
   "cell_type": "code",
   "execution_count": 11,
   "metadata": {},
   "outputs": [],
   "source": [
    "lat_data = pd.DataFrame({'value' : np.array(FILE.variables['lat'][:])})\n",
    "# 纬度分为 10 个区间\n",
    "quartiles = pd.cut(lat_data.value, 10, precision=0)"
   ]
  },
  {
   "cell_type": "code",
   "execution_count": 12,
   "metadata": {},
   "outputs": [
    {
     "name": "stdout",
     "output_type": "stream",
     "text": [
      "latitude distribution is : \n",
      "                distribution : \n",
      "value                          \n",
      "(-55.0, -44.0]                3\n",
      "(-44.0, -32.0]                2\n",
      "(-32.0, -20.0]                2\n",
      "(-20.0, -9.0]                 3\n",
      "(-9.0, 2.0]                   2\n",
      "(2.0, 14.0]                   2\n",
      "(14.0, 26.0]                  3\n",
      "(26.0, 37.0]                  2\n",
      "(37.0, 48.0]                  2\n",
      "(48.0, 60.0]                  3\n"
     ]
    }
   ],
   "source": [
    "lat_grouped = lat_data.value.groupby(quartiles)\n",
    "print('latitude distribution is : ')\n",
    "print(lat_grouped.apply(get_status).unstack())"
   ]
  },
  {
   "cell_type": "markdown",
   "metadata": {},
   "source": [
    "## 温度异常处理"
   ]
  },
  {
   "cell_type": "code",
   "execution_count": 13,
   "metadata": {},
   "outputs": [],
   "source": [
    "sst_data = np.array(FILE.variables['sst'][:])"
   ]
  },
  {
   "cell_type": "markdown",
   "metadata": {},
   "source": [
    "### 查看重叠数据"
   ]
  },
  {
   "cell_type": "code",
   "execution_count": 14,
   "metadata": {},
   "outputs": [
    {
     "name": "stdout",
     "output_type": "stream",
     "text": [
      "[ 1.6091517   0.71986026  0.68220437  0.56383836  0.54306084  0.4583771\n",
      "  0.19450794  0.13238896  0.09940504 -0.1464066  -0.03570029  0.16862872\n",
      "  0.38840583  0.5491563   0.54565835  0.3754512   0.45127892  0.42569095\n",
      "  0.41107863  0.27990633  0.22299826  0.16423787  0.11990864  0.44018087\n",
      "  0.5232868   0.62889254  0.6486295   0.5473196   0.27443555  0.24724294\n",
      "  0.30485055  0.31458566  0.2601541   0.169106   -0.07069355  0.3209315 ]\n",
      "[ 0.38840583  0.5491563   0.54565835  0.3754512   0.45127892  0.42569095\n",
      "  0.41107863  0.27990633  0.22299826  0.16423787  0.11990864  0.44018087\n",
      "  0.5232868   0.62889254  0.6486295   0.5473196   0.27443555  0.24724294\n",
      "  0.30485055  0.31458566  0.2601541   0.169106   -0.07069355  0.3209315\n",
      "  0.14049093  0.38737735  0.36938617  0.15929121 -0.06760521 -0.16155241\n",
      " -0.03605766  0.11249857  0.01562759 -0.18102594 -0.03493248 -0.03082386]\n"
     ]
    }
   ],
   "source": [
    "print(sst_data[0, 0:36, 1, 1])\n",
    "print(sst_data[1, 0:36, 1, 1])"
   ]
  },
  {
   "cell_type": "code",
   "execution_count": 15,
   "metadata": {},
   "outputs": [
    {
     "name": "stdout",
     "output_type": "stream",
     "text": [
      "The number of sst is 6220800\n"
     ]
    }
   ],
   "source": [
    "sst_data = sst_data.flatten()\n",
    "print('The number of sst is {}'.format(len(sst_data)))"
   ]
  },
  {
   "cell_type": "code",
   "execution_count": 16,
   "metadata": {},
   "outputs": [
    {
     "name": "stdout",
     "output_type": "stream",
     "text": [
      "sst data distribution is : \n",
      "              distribution : \n",
      "value                        \n",
      "(-8.0, -6.0]               26\n",
      "(-6.0, -5.0]              175\n",
      "(-5.0, -3.0]             2547\n",
      "(-3.0, -2.0]            56830\n",
      "(-2.0, -0.0]          1759244\n",
      "(-0.0, 1.0]           4243581\n",
      "(1.0, 3.0]             150516\n",
      "(3.0, 4.0]               7450\n",
      "(4.0, 6.0]                363\n",
      "(6.0, 7.0]                 68\n"
     ]
    }
   ],
   "source": [
    "sst_data = pd.DataFrame({'value' : sst_data})\n",
    "quartiles = pd.cut(sst_data.value, 10, precision=0)\n",
    "sst_grouped = sst_data.value.groupby(quartiles)\n",
    "print('sst data distribution is : ')\n",
    "print(sst_grouped.apply(get_status).unstack())"
   ]
  },
  {
   "cell_type": "markdown",
   "metadata": {},
   "source": [
    "## 热含量异常处理"
   ]
  },
  {
   "cell_type": "code",
   "execution_count": 17,
   "metadata": {},
   "outputs": [
    {
     "name": "stdout",
     "output_type": "stream",
     "text": [
      "The number of t300 is 6220800\n"
     ]
    }
   ],
   "source": [
    "t300_data = np.array(FILE.variables['t300'][:])\n",
    "t300_data = t300_data.flatten()\n",
    "print('The number of t300 is {}'.format(len(t300_data)))"
   ]
  },
  {
   "cell_type": "code",
   "execution_count": 18,
   "metadata": {},
   "outputs": [
    {
     "name": "stdout",
     "output_type": "stream",
     "text": [
      "t300 data distribution is : \n",
      "              distribution : \n",
      "value                        \n",
      "(-6.0, -4.0]               60\n",
      "(-4.0, -3.0]              738\n",
      "(-3.0, -2.0]             9315\n",
      "(-2.0, -0.0]           546861\n",
      "(-0.0, 1.0]           5574643\n",
      "(1.0, 2.0]              85249\n",
      "(2.0, 3.0]               3221\n",
      "(3.0, 5.0]                479\n",
      "(5.0, 6.0]                185\n",
      "(6.0, 7.0]                 49\n"
     ]
    }
   ],
   "source": [
    "t300_data = pd.DataFrame({'value' : t300_data})\n",
    "quartiles = pd.cut(t300_data.value, 10, precision=0)\n",
    "t300_grouped = t300_data.value.groupby(quartiles)\n",
    "print('t300 data distribution is : ')\n",
    "print(t300_grouped.apply(get_status).unstack())"
   ]
  },
  {
   "cell_type": "markdown",
   "metadata": {},
   "source": [
    "## 纬向风异常处理"
   ]
  },
  {
   "cell_type": "code",
   "execution_count": 19,
   "metadata": {},
   "outputs": [
    {
     "name": "stdout",
     "output_type": "stream",
     "text": [
      "The number of ua is 6220800\n"
     ]
    }
   ],
   "source": [
    "ua_data = np.array(FILE.variables['ua'][:])\n",
    "ua_data = ua_data.flatten()\n",
    "print('The number of ua is {}'.format(len(ua_data)))"
   ]
  },
  {
   "cell_type": "code",
   "execution_count": 20,
   "metadata": {},
   "outputs": [
    {
     "name": "stdout",
     "output_type": "stream",
     "text": [
      "ua data distribution is : \n",
      "                distribution : \n",
      "value                          \n",
      "(-13.0, -11.0]              111\n",
      "(-11.0, -8.0]               750\n",
      "(-8.0, -6.0]               6101\n",
      "(-6.0, -3.0]              72193\n",
      "(-3.0, -1.0]            1326811\n",
      "(-1.0, 2.0]             4482793\n",
      "(2.0, 4.0]               311413\n",
      "(4.0, 7.0]                19408\n",
      "(7.0, 10.0]                1181\n",
      "(10.0, 12.0]                 39\n"
     ]
    }
   ],
   "source": [
    "ua_data = pd.DataFrame({'value' : ua_data})\n",
    "quartiles = pd.cut(ua_data.value, 10, precision=0)\n",
    "ua_grouped = ua_data.value.groupby(quartiles)\n",
    "print('ua data distribution is : ')\n",
    "print(ua_grouped.apply(get_status).unstack())"
   ]
  },
  {
   "cell_type": "markdown",
   "metadata": {},
   "source": [
    "## 经向风异常"
   ]
  },
  {
   "cell_type": "code",
   "execution_count": 21,
   "metadata": {},
   "outputs": [
    {
     "name": "stdout",
     "output_type": "stream",
     "text": [
      "The number of va is 6220800\n"
     ]
    }
   ],
   "source": [
    "va_data = np.array(FILE.variables['va'][:])\n",
    "va_data = va_data.flatten()\n",
    "print('The number of va is {}'.format(len(va_data)))"
   ]
  },
  {
   "cell_type": "code",
   "execution_count": 22,
   "metadata": {},
   "outputs": [
    {
     "name": "stdout",
     "output_type": "stream",
     "text": [
      "va data distribution is : \n",
      "               distribution : \n",
      "value                         \n",
      "(-12.0, -9.0]               18\n",
      "(-9.0, -7.0]               399\n",
      "(-7.0, -5.0]              4988\n",
      "(-5.0, -2.0]             92072\n",
      "(-2.0, 0.0]            3485534\n",
      "(0.0, 2.0]             2568450\n",
      "(2.0, 5.0]               65980\n",
      "(5.0, 7.0]                3221\n",
      "(7.0, 9.0]                 135\n",
      "(9.0, 12.0]                  3\n"
     ]
    }
   ],
   "source": [
    "va_data = pd.DataFrame({'value' : va_data})\n",
    "quartiles = pd.cut(va_data.value, 10, precision=0)\n",
    "va_grouped = va_data.value.groupby(quartiles)\n",
    "print('va data distribution is : ')\n",
    "print(va_grouped.apply(get_status).unstack())"
   ]
  },
  {
   "cell_type": "markdown",
   "metadata": {},
   "source": [
    "## 标签数据观察"
   ]
  },
  {
   "cell_type": "code",
   "execution_count": 23,
   "metadata": {},
   "outputs": [],
   "source": [
    "FILEPATH = 'data/SODA_label.nc'\n",
    "FILE = nc.Dataset(FILEPATH)"
   ]
  },
  {
   "cell_type": "code",
   "execution_count": 24,
   "metadata": {},
   "outputs": [
    {
     "data": {
      "text/plain": [
       "<class 'netCDF4._netCDF4.Dataset'>\n",
       "root group (NETCDF4 data model, file format HDF5):\n",
       "    dimensions(sizes): year(100), month(36)\n",
       "    variables(dimensions): float64 nino(year, month), int32 year(year), int32 month(month)\n",
       "    groups: "
      ]
     },
     "execution_count": 24,
     "metadata": {},
     "output_type": "execute_result"
    }
   ],
   "source": [
    "FILE"
   ]
  },
  {
   "cell_type": "code",
   "execution_count": 25,
   "metadata": {},
   "outputs": [
    {
     "name": "stdout",
     "output_type": "stream",
     "text": [
      "nino  data shape is : (100, 36)\n",
      "year  data shape is : (100,)\n",
      "month data shape is : (36,)\n"
     ]
    }
   ],
   "source": [
    "for key in FILE.variables.keys():\n",
    "    print('{:<5}'.format(key), end=' data shape is : ')\n",
    "    print(FILE.variables[key][:].shape)"
   ]
  },
  {
   "cell_type": "markdown",
   "metadata": {},
   "source": [
    "## 填充值处理"
   ]
  },
  {
   "cell_type": "code",
   "execution_count": 26,
   "metadata": {},
   "outputs": [
    {
     "name": "stdout",
     "output_type": "stream",
     "text": [
      "nino  has filled value, which is nan, the number of filled value is 0\n",
      "year  doesn't has filled value\n",
      "month doesn't has filled value\n"
     ]
    }
   ],
   "source": [
    "for key in FILE.variables.keys():\n",
    "    a = FILE[key]\n",
    "    if hasattr(a, '_FillValue'):\n",
    "        print('{:<5} has filled value, which is {}'.format(key, a._FillValue), end=', ')\n",
    "        print('the number of filled value is {}'.format(np.isnan(np.array(FILE.variables[key][:])).sum()))\n",
    "    else:\n",
    "        print('{:<5} doesn\\'t has filled value'.format(key))"
   ]
  },
  {
   "cell_type": "markdown",
   "metadata": {},
   "source": [
    "## 年份观察"
   ]
  },
  {
   "cell_type": "code",
   "execution_count": 27,
   "metadata": {},
   "outputs": [
    {
     "name": "stdout",
     "output_type": "stream",
     "text": [
      "All year variables appear once. \n"
     ]
    }
   ],
   "source": [
    "year_data = np.array(FILE.variables['year'][:])\n",
    "\n",
    "year_cnt = Counter(year_data.flatten())\n",
    "year_flag = 0\n",
    "for key, value in year_cnt.items():\n",
    "    if value > 1:\n",
    "        year_flag = 1\n",
    "        print(\"{} appears {} times\".format(key, value))\n",
    "if year_flag == 0:\n",
    "    print('All year variables appear once. ')"
   ]
  },
  {
   "cell_type": "markdown",
   "metadata": {},
   "source": [
    "## 月份观察"
   ]
  },
  {
   "cell_type": "code",
   "execution_count": 28,
   "metadata": {},
   "outputs": [
    {
     "name": "stdout",
     "output_type": "stream",
     "text": [
      "All month variables appear once. \n"
     ]
    }
   ],
   "source": [
    "month_data = np.array(FILE.variables['month'][:])\n",
    "\n",
    "month_cnt = Counter(month_data.flatten())\n",
    "month_flag = 0\n",
    "for key, value in month_cnt.items():\n",
    "    if value > 1:\n",
    "        month_flag = 1\n",
    "        print(\"{} appears {} times\".format(key, value))\n",
    "if month_flag == 0:\n",
    "    print('All month variables appear once. ')"
   ]
  },
  {
   "cell_type": "markdown",
   "metadata": {},
   "source": [
    "## nino 观察"
   ]
  },
  {
   "cell_type": "markdown",
   "metadata": {},
   "source": [
    "### 重叠数据"
   ]
  },
  {
   "cell_type": "code",
   "execution_count": 29,
   "metadata": {},
   "outputs": [
    {
     "name": "stdout",
     "output_type": "stream",
     "text": [
      "(100, 36)\n",
      "[-0.40720701 -0.20244436 -0.10386104 -0.02910841 -0.13252996 -0.25527564\n",
      " -0.3326247  -0.26293179 -0.08058987  0.10612228  0.21165498  0.16504486\n",
      "  0.06697161  0.00999126 -0.00164753 -0.06598581 -0.14728385 -0.1915542\n",
      " -0.17029583 -0.19376083 -0.27808595 -0.39393583 -0.49975768 -0.58400702\n",
      " -0.73201811 -0.72508991 -0.58416802 -0.31754819 -0.12046373 -0.03802495\n",
      "  0.013173    0.06823147  0.0597352   0.02755602  0.011619   -0.04931002]\n",
      "[ 0.06697161  0.00999126 -0.00164753 -0.06598581 -0.14728385 -0.1915542\n",
      " -0.17029583 -0.19376083 -0.27808595 -0.39393583 -0.49975768 -0.58400702\n",
      " -0.73201811 -0.72508991 -0.58416802 -0.31754819 -0.12046373 -0.03802495\n",
      "  0.013173    0.06823147  0.0597352   0.02755602  0.011619   -0.04931002\n",
      " -0.2593078  -0.56157684 -0.72061253 -0.67269957 -0.58430457 -0.5273878\n",
      " -0.4824861  -0.37052664 -0.28829426 -0.31192511 -0.36046785 -0.32623523]\n"
     ]
    }
   ],
   "source": [
    "nino_data = np.array(FILE.variables['nino'][:])\n",
    "print(nino_data.shape)\n",
    "print(nino_data[0])\n",
    "print(nino_data[1])"
   ]
  },
  {
   "cell_type": "code",
   "execution_count": 39,
   "metadata": {},
   "outputs": [
    {
     "name": "stdout",
     "output_type": "stream",
     "text": [
      "(1224,)\n"
     ]
    }
   ],
   "source": [
    "# 拼接数据\n",
    "label_data = [nino_data[0]] + [nino_data[i, 24:] for i in range(1, nino_data.shape[0])]\n",
    "label_data = np.concatenate(label_data, axis=0)\n",
    "print(label_data.shape)"
   ]
  },
  {
   "cell_type": "code",
   "execution_count": 40,
   "metadata": {},
   "outputs": [
    {
     "data": {
      "image/png": "[encoded data removed]",
      "text/plain": [
       "<Figure size 432x288 with 1 Axes>"
      ]
     },
     "metadata": {
      "needs_background": "light"
     },
     "output_type": "display_data"
    }
   ],
   "source": [
    "plt.plot(label_data, linewidth=1)\n",
    "plt.xlabel('Time / month')\n",
    "plt.ylabel('Nino')\n",
    "plt.show()"
   ]
  },
  {
   "cell_type": "markdown",
   "metadata": {},
   "source": [
    " "
   ]
  },
  {
   "cell_type": "markdown",
   "metadata": {},
   "source": [
    " "
   ]
  },
  {
   "cell_type": "markdown",
   "metadata": {},
   "source": [
    " "
   ]
  },
  {
   "cell_type": "markdown",
   "metadata": {},
   "source": [
    " "
   ]
  },
  {
   "cell_type": "markdown",
   "metadata": {},
   "source": [
    "# CMIP 数据集 EDA "
   ]
  },
  {
   "cell_type": "markdown",
   "metadata": {},
   "source": [
    "# 数据集"
   ]
  },
  {
   "cell_type": "code",
   "execution_count": 41,
   "metadata": {},
   "outputs": [],
   "source": [
    "FILEPATH = 'data/CMIP_train.nc'\n",
    "FILE = nc.Dataset(FILEPATH)"
   ]
  },
  {
   "cell_type": "markdown",
   "metadata": {},
   "source": [
    "## 数据维度"
   ]
  },
  {
   "cell_type": "code",
   "execution_count": 43,
   "metadata": {},
   "outputs": [
    {
     "name": "stdout",
     "output_type": "stream",
     "text": [
      "sst   data shape is : (4645, 36, 24, 72)\n",
      "t300  data shape is : (4645, 36, 24, 72)\n",
      "ua    data shape is : (4645, 36, 24, 72)\n",
      "va    data shape is : (4645, 36, 24, 72)\n",
      "year  data shape is : (4645,)\n",
      "month data shape is : (36,)\n",
      "lat   data shape is : (24,)\n",
      "lon   data shape is : (72,)\n"
     ]
    }
   ],
   "source": [
    "for key in FILE.variables.keys():\n",
    "    print('{:<5}'.format(key), end=' data shape is : ')\n",
    "    print(FILE.variables[key][:].shape)"
   ]
  },
  {
   "cell_type": "markdown",
   "metadata": {},
   "source": [
    "## 填充值处理"
   ]
  },
  {
   "cell_type": "code",
   "execution_count": 44,
   "metadata": {},
   "outputs": [
    {
     "name": "stdout",
     "output_type": "stream",
     "text": [
      "sst   has filled value, which is nan, the number of filled value is 0\n",
      "t300  has filled value, which is nan, the number of filled value is 3055032\n",
      "ua    has filled value, which is nan, the number of filled value is 13921123\n",
      "va    has filled value, which is nan, the number of filled value is 13921123\n",
      "year  doesn't has filled value\n",
      "month doesn't has filled value\n",
      "lat   has filled value, which is nan, the number of filled value is 0\n",
      "lon   has filled value, which is nan, the number of filled value is 0\n"
     ]
    }
   ],
   "source": [
    "for key in FILE.variables.keys():\n",
    "    a = FILE[key]\n",
    "    if hasattr(a, '_FillValue'):\n",
    "        print('{:<5} has filled value, which is {}'.format(key, a._FillValue), end=', ')\n",
    "        print('the number of filled value is {}'.format(np.isnan(np.array(FILE.variables[key][:])).sum()))\n",
    "    else:\n",
    "        print('{:<5} doesn\\'t has filled value'.format(key))"
   ]
  },
  {
   "cell_type": "markdown",
   "metadata": {},
   "source": [
    "## 年份处理"
   ]
  },
  {
   "cell_type": "code",
   "execution_count": 45,
   "metadata": {},
   "outputs": [
    {
     "name": "stdout",
     "output_type": "stream",
     "text": [
      "4645 years in total.\n"
     ]
    }
   ],
   "source": [
    "year_data = np.array(FILE.variables['year'][:])\n",
    "print(\"{} years in total.\".format(len(year_data)))"
   ]
  },
  {
   "cell_type": "code",
   "execution_count": 46,
   "metadata": {},
   "outputs": [
    {
     "name": "stdout",
     "output_type": "stream",
     "text": [
      "All year variables appear once. \n"
     ]
    }
   ],
   "source": [
    "year_cnt = Counter(year_data.flatten())\n",
    "year_flag = 0\n",
    "for key, value in year_cnt.items():\n",
    "    if value > 1:\n",
    "        year_flag = 1\n",
    "        print(\"{} appears {} times\".format(key, value))\n",
    "if year_flag == 0:\n",
    "    print('All year variables appear once. ')"
   ]
  },
  {
   "cell_type": "markdown",
   "metadata": {},
   "source": [
    "## 月份处理"
   ]
  },
  {
   "cell_type": "code",
   "execution_count": 47,
   "metadata": {},
   "outputs": [
    {
     "name": "stdout",
     "output_type": "stream",
     "text": [
      "36 months in total.\n"
     ]
    }
   ],
   "source": [
    "month_data = np.array(FILE.variables['month'][:])\n",
    "print(\"{} months in total.\".format(len(month_data)))"
   ]
  },
  {
   "cell_type": "code",
   "execution_count": 48,
   "metadata": {},
   "outputs": [
    {
     "name": "stdout",
     "output_type": "stream",
     "text": [
      "All month variables appear once. \n"
     ]
    }
   ],
   "source": [
    "month_cnt = Counter(month_data.flatten())\n",
    "month_flag = 0\n",
    "for key, value in month_cnt.items():\n",
    "    if value > 1:\n",
    "        month_flag = 1\n",
    "        print(\"{} appears {} times\".format(key, value))\n",
    "if month_flag == 0:\n",
    "    print('All month variables appear once. ')"
   ]
  },
  {
   "cell_type": "markdown",
   "metadata": {},
   "source": [
    "## 经度处理"
   ]
  },
  {
   "cell_type": "code",
   "execution_count": 49,
   "metadata": {},
   "outputs": [],
   "source": [
    "lon_data = pd.DataFrame({'value' : np.array(FILE.variables['lon'][:])})\n",
    "# 经度分为 10 个区间\n",
    "quartiles = pd.cut(lon_data.value, 10, precision=0)"
   ]
  },
  {
   "cell_type": "code",
   "execution_count": 50,
   "metadata": {},
   "outputs": [
    {
     "name": "stdout",
     "output_type": "stream",
     "text": [
      "longitude distribution is : \n",
      "                distribution : \n",
      "value                          \n",
      "(-0.0, 36.0]                  8\n",
      "(36.0, 71.0]                  7\n",
      "(71.0, 106.0]                 7\n",
      "(106.0, 142.0]                7\n",
      "(142.0, 178.0]                7\n",
      "(178.0, 213.0]                7\n",
      "(213.0, 248.0]                7\n",
      "(248.0, 284.0]                7\n",
      "(284.0, 320.0]                7\n",
      "(320.0, 355.0]                8\n"
     ]
    }
   ],
   "source": [
    "lon_grouped = lon_data.value.groupby(quartiles)\n",
    "def get_status(group):\n",
    "    return {'distribution : ' : group.count()}\n",
    "print('longitude distribution is : ')\n",
    "print(lon_grouped.apply(get_status).unstack())"
   ]
  },
  {
   "cell_type": "markdown",
   "metadata": {},
   "source": [
    "## 纬度处理"
   ]
  },
  {
   "cell_type": "code",
   "execution_count": 51,
   "metadata": {},
   "outputs": [],
   "source": [
    "lat_data = pd.DataFrame({'value' : np.array(FILE.variables['lat'][:])})\n",
    "# 纬度分为 10 个区间\n",
    "quartiles = pd.cut(lat_data.value, 10, precision=0)"
   ]
  },
  {
   "cell_type": "code",
   "execution_count": 52,
   "metadata": {},
   "outputs": [
    {
     "name": "stdout",
     "output_type": "stream",
     "text": [
      "latitude distribution is : \n",
      "                distribution : \n",
      "value                          \n",
      "(-55.0, -44.0]                3\n",
      "(-44.0, -32.0]                2\n",
      "(-32.0, -20.0]                2\n",
      "(-20.0, -9.0]                 3\n",
      "(-9.0, 2.0]                   2\n",
      "(2.0, 14.0]                   2\n",
      "(14.0, 26.0]                  3\n",
      "(26.0, 37.0]                  2\n",
      "(37.0, 48.0]                  2\n",
      "(48.0, 60.0]                  3\n"
     ]
    }
   ],
   "source": [
    "lat_grouped = lat_data.value.groupby(quartiles)\n",
    "print('latitude distribution is : ')\n",
    "print(lat_grouped.apply(get_status).unstack())"
   ]
  },
  {
   "cell_type": "markdown",
   "metadata": {},
   "source": [
    "## 温度异常处理"
   ]
  },
  {
   "cell_type": "code",
   "execution_count": 53,
   "metadata": {},
   "outputs": [],
   "source": [
    "sst_data = np.array(FILE.variables['sst'][:])"
   ]
  },
  {
   "cell_type": "markdown",
   "metadata": {},
   "source": [
    "### 查看重叠数据"
   ]
  },
  {
   "cell_type": "code",
   "execution_count": 54,
   "metadata": {},
   "outputs": [
    {
     "name": "stdout",
     "output_type": "stream",
     "text": [
      "[ 2.02001572e-01  2.81116962e-01  4.96657848e-01  4.26758289e-01\n",
      "  2.86252975e-01  6.83760643e-02 -1.33986473e-02  5.84840775e-04\n",
      " -9.28599834e-02 -2.25684166e-01 -4.55626965e-01 -3.51200581e-01\n",
      " -6.52111530e-01 -8.60989571e-01 -8.34579468e-01 -6.62024498e-01\n",
      " -5.92985392e-01 -5.23464203e-01 -3.58994722e-01 -2.62998819e-01\n",
      " -1.43400431e-01  5.42902946e-02 -5.88419437e-02 -4.59293842e-01\n",
      " -4.40512180e-01 -1.97493076e-01 -2.28431225e-01  8.13550949e-02\n",
      " -1.91537857e-01 -4.74525690e-01 -4.11816597e-01 -4.40829515e-01\n",
      " -4.92228985e-01 -5.02949715e-01 -4.18836832e-01 -2.09059715e-01]\n",
      "[-0.65211153 -0.86098957 -0.83457947 -0.6620245  -0.59298539 -0.5234642\n",
      " -0.35899472 -0.26299882 -0.14340043  0.05429029 -0.05884194 -0.45929384\n",
      " -0.44051218 -0.19749308 -0.22843122  0.08135509 -0.19153786 -0.47452569\n",
      " -0.4118166  -0.44082952 -0.49222898 -0.50294971 -0.41883683 -0.20905972\n",
      "  0.06607008 -0.11251736 -0.10042238 -0.28687048 -0.38001776 -0.18929338\n",
      " -0.22970104 -0.12138414 -0.04502177 -0.04514074 -0.20655513 -0.23604822]\n"
     ]
    }
   ],
   "source": [
    "print(sst_data[0, 0:36, 1, 1])\n",
    "print(sst_data[1, 0:36, 1, 1])"
   ]
  },
  {
   "cell_type": "code",
   "execution_count": 55,
   "metadata": {},
   "outputs": [
    {
     "name": "stdout",
     "output_type": "stream",
     "text": [
      "The number of sst is 288956160\n"
     ]
    }
   ],
   "source": [
    "sst_data = sst_data.flatten()\n",
    "print('The number of sst is {}'.format(len(sst_data)))"
   ]
  },
  {
   "cell_type": "code",
   "execution_count": 56,
   "metadata": {},
   "outputs": [
    {
     "name": "stdout",
     "output_type": "stream",
     "text": [
      "sst data distribution is : \n",
      "                distribution : \n",
      "value                          \n",
      "(-17.0, -14.0]               21\n",
      "(-14.0, -11.0]               53\n",
      "(-11.0, -9.0]              1080\n",
      "(-9.0, -6.0]              15726\n",
      "(-6.0, -3.0]             213837\n",
      "(-3.0, -1.0]           51137376\n",
      "(-1.0, 2.0]           236988175\n",
      "(2.0, 5.0]               589029\n",
      "(5.0, 8.0]                10553\n",
      "(8.0, 10.0]                 310\n"
     ]
    }
   ],
   "source": [
    "sst_data = pd.DataFrame({'value' : sst_data})\n",
    "quartiles = pd.cut(sst_data.value, 10, precision=0)\n",
    "sst_grouped = sst_data.value.groupby(quartiles)\n",
    "print('sst data distribution is : ')\n",
    "print(sst_grouped.apply(get_status).unstack())"
   ]
  },
  {
   "cell_type": "markdown",
   "metadata": {},
   "source": [
    "### 热含量异常处理"
   ]
  },
  {
   "cell_type": "code",
   "execution_count": 57,
   "metadata": {},
   "outputs": [
    {
     "name": "stdout",
     "output_type": "stream",
     "text": [
      "The number of t300 is 288956160\n"
     ]
    }
   ],
   "source": [
    "t300_data = np.array(FILE.variables['t300'][:])\n",
    "t300_data = t300_data.flatten()\n",
    "print('The number of t300 is {}'.format(len(t300_data)))"
   ]
  },
  {
   "cell_type": "code",
   "execution_count": 58,
   "metadata": {},
   "outputs": [
    {
     "name": "stdout",
     "output_type": "stream",
     "text": [
      "t300 data distribution is : \n",
      "                distribution : \n",
      "value                          \n",
      "(-12.0, -10.0]              152\n",
      "(-10.0, -8.0]               628\n",
      "(-8.0, -6.0]               4911\n",
      "(-6.0, -3.0]              68090\n",
      "(-3.0, -1.0]            3000750\n",
      "(-1.0, 1.0]           276822943\n",
      "(1.0, 3.0]              5937445\n",
      "(3.0, 5.0]                61315\n",
      "(5.0, 7.0]                 4433\n",
      "(7.0, 9.0]                  461\n"
     ]
    }
   ],
   "source": [
    "t300_data = pd.DataFrame({'value' : t300_data})\n",
    "quartiles = pd.cut(t300_data.value, 10, precision=0)\n",
    "t300_grouped = t300_data.value.groupby(quartiles)\n",
    "print('t300 data distribution is : ')\n",
    "print(t300_grouped.apply(get_status).unstack())"
   ]
  },
  {
   "cell_type": "code",
   "execution_count": 61,
   "metadata": {},
   "outputs": [
    {
     "data": {
      "text/plain": [
       "0"
      ]
     },
     "execution_count": 61,
     "metadata": {},
     "output_type": "execute_result"
    }
   ],
   "source": [
    "# 缺失值不在分布内\n",
    "152+628+4911+68090+3000750+276822943+5937445+61315+4433+461-288956160+3055032"
   ]
  },
  {
   "cell_type": "markdown",
   "metadata": {},
   "source": [
    "## 纬向风异常处理"
   ]
  },
  {
   "cell_type": "code",
   "execution_count": 62,
   "metadata": {},
   "outputs": [
    {
     "name": "stdout",
     "output_type": "stream",
     "text": [
      "The number of ua is 288956160\n"
     ]
    }
   ],
   "source": [
    "ua_data = np.array(FILE.variables['ua'][:])\n",
    "ua_data = ua_data.flatten()\n",
    "print('The number of ua is {}'.format(len(ua_data)))"
   ]
  },
  {
   "cell_type": "code",
   "execution_count": 63,
   "metadata": {},
   "outputs": [
    {
     "name": "stdout",
     "output_type": "stream",
     "text": [
      "ua data distribution is : \n",
      "                distribution : \n",
      "value                          \n",
      "(-22.0, -19.0]               36\n",
      "(-19.0, -15.0]             1016\n",
      "(-15.0, -11.0]            20767\n",
      "(-11.0, -7.0]            352119\n",
      "(-7.0, -4.0]            5723652\n",
      "(-4.0, 0.1]           142939752\n",
      "(0.1, 4.0]            121734110\n",
      "(4.0, 8.0]              4180308\n",
      "(8.0, 11.0]               82443\n",
      "(11.0, 15.0]                834\n"
     ]
    }
   ],
   "source": [
    "ua_data = pd.DataFrame({'value' : ua_data})\n",
    "quartiles = pd.cut(ua_data.value, 10, precision=0)\n",
    "ua_grouped = ua_data.value.groupby(quartiles)\n",
    "print('ua data distribution is : ')\n",
    "print(ua_grouped.apply(get_status).unstack())"
   ]
  },
  {
   "cell_type": "markdown",
   "metadata": {},
   "source": [
    "## 经向风异常"
   ]
  },
  {
   "cell_type": "code",
   "execution_count": 64,
   "metadata": {},
   "outputs": [
    {
     "name": "stdout",
     "output_type": "stream",
     "text": [
      "The number of va is 288956160\n"
     ]
    }
   ],
   "source": [
    "va_data = np.array(FILE.variables['va'][:])\n",
    "va_data = va_data.flatten()\n",
    "print('The number of va is {}'.format(len(va_data)))"
   ]
  },
  {
   "cell_type": "code",
   "execution_count": 65,
   "metadata": {},
   "outputs": [
    {
     "name": "stdout",
     "output_type": "stream",
     "text": [
      "va data distribution is : \n",
      "                distribution : \n",
      "value                          \n",
      "(-18.0, -14.0]               45\n",
      "(-14.0, -11.0]             1637\n",
      "(-11.0, -7.0]             45955\n",
      "(-7.0, -4.0]            1770911\n",
      "(-4.0, -0.0]          105214916\n",
      "(-0.0, 3.0]           164877927\n",
      "(3.0, 7.0]              3068153\n",
      "(7.0, 10.0]               54162\n",
      "(10.0, 14.0]               1274\n",
      "(14.0, 17.0]                 57\n"
     ]
    }
   ],
   "source": [
    "va_data = pd.DataFrame({'value' : va_data})\n",
    "quartiles = pd.cut(va_data.value, 10, precision=0)\n",
    "va_grouped = va_data.value.groupby(quartiles)\n",
    "print('va data distribution is : ')\n",
    "print(va_grouped.apply(get_status).unstack())"
   ]
  },
  {
   "cell_type": "markdown",
   "metadata": {},
   "source": [
    "## 标签数据观察"
   ]
  },
  {
   "cell_type": "code",
   "execution_count": 66,
   "metadata": {},
   "outputs": [],
   "source": [
    "FILEPATH = 'data/CMIP_label.nc'\n",
    "FILE = nc.Dataset(FILEPATH)"
   ]
  },
  {
   "cell_type": "code",
   "execution_count": 67,
   "metadata": {},
   "outputs": [
    {
     "name": "stdout",
     "output_type": "stream",
     "text": [
      "nino  data shape is : (4645, 36)\n",
      "year  data shape is : (4645,)\n",
      "month data shape is : (36,)\n"
     ]
    }
   ],
   "source": [
    "for key in FILE.variables.keys():\n",
    "    print('{:<5}'.format(key), end=' data shape is : ')\n",
    "    print(FILE.variables[key][:].shape)"
   ]
  },
  {
   "cell_type": "code",
   "execution_count": 68,
   "metadata": {},
   "outputs": [
    {
     "name": "stdout",
     "output_type": "stream",
     "text": [
      "nino  has filled value, which is nan, the number of filled value is 0\n",
      "year  doesn't has filled value\n",
      "month doesn't has filled value\n"
     ]
    }
   ],
   "source": [
    "for key in FILE.variables.keys():\n",
    "    a = FILE[key]\n",
    "    if hasattr(a, '_FillValue'):\n",
    "        print('{:<5} has filled value, which is {}'.format(key, a._FillValue), end=', ')\n",
    "        print('the number of filled value is {}'.format(np.isnan(np.array(FILE.variables[key][:])).sum()))\n",
    "    else:\n",
    "        print('{:<5} doesn\\'t has filled value'.format(key))"
   ]
  },
  {
   "cell_type": "markdown",
   "metadata": {},
   "source": [
    "## nino 数据观察"
   ]
  },
  {
   "cell_type": "markdown",
   "metadata": {},
   "source": [
    "有重叠项"
   ]
  },
  {
   "cell_type": "code",
   "execution_count": 70,
   "metadata": {},
   "outputs": [
    {
     "name": "stdout",
     "output_type": "stream",
     "text": [
      "(4645, 36)\n",
      "[-0.26102549 -0.13325377 -0.01483156  0.10506672  0.24070978  0.3849988\n",
      "  0.46769741  0.49836656  0.45298234  0.35320151  0.13045476 -0.22466083\n",
      " -0.51252842 -0.67330021 -0.69312692 -0.62691498 -0.54981941 -0.47077212\n",
      " -0.43879238 -0.45885882 -0.5298723  -0.66582316 -0.67307574 -0.53411871\n",
      " -0.16938901  0.16518302  0.42523685  0.51058745  0.61095256  0.73109442\n",
      "  0.833076    0.78988576  0.74149543  0.70016259  0.69692588  0.62087137]\n",
      "[-0.51252842 -0.67330021 -0.69312692 -0.62691498 -0.54981941 -0.47077212\n",
      " -0.43879238 -0.45885882 -0.5298723  -0.66582316 -0.67307574 -0.53411871\n",
      " -0.16938901  0.16518302  0.42523685  0.51058745  0.61095256  0.73109442\n",
      "  0.833076    0.78988576  0.74149543  0.70016259  0.69692588  0.62087137\n",
      "  0.36371359 -0.01698022 -0.53221828 -1.08626425 -1.66381609 -2.2916038\n",
      " -2.75982594 -3.09878922 -3.26644039 -3.32816887 -3.33858109 -3.00591755]\n"
     ]
    }
   ],
   "source": [
    "nino_data = np.array(FILE.variables['nino'][:])\n",
    "print(nino_data.shape)\n",
    "print(nino_data[0])\n",
    "print(nino_data[1])"
   ]
  },
  {
   "cell_type": "code",
   "execution_count": 71,
   "metadata": {},
   "outputs": [
    {
     "name": "stdout",
     "output_type": "stream",
     "text": [
      "(55764,)\n"
     ]
    }
   ],
   "source": [
    "label_data = [nino_data[0]] + [nino_data[i, 24:] for i in range(1, nino_data.shape[0])]\n",
    "label_data = np.concatenate(label_data, axis=0)\n",
    "print(label_data.shape)"
   ]
  },
  {
   "cell_type": "code",
   "execution_count": 74,
   "metadata": {},
   "outputs": [
    {
     "data": {
      "image/png": "[encoded data removed]",
      "text/plain": [
       "<Figure size 1600x480 with 1 Axes>"
      ]
     },
     "metadata": {
      "needs_background": "light"
     },
     "output_type": "display_data"
    }
   ],
   "source": [
    "plt.figure(figsize=(20, 6),dpi=80)\n",
    "plt.plot(label_data, linewidth=1)\n",
    "plt.xlabel('Time / month')\n",
    "plt.ylabel('Nino')\n",
    "plt.show()"
   ]
  },
  {
   "cell_type": "markdown",
   "metadata": {},
   "source": [
    "# 查看缺失值的分布"
   ]
  },
  {
   "cell_type": "code",
   "execution_count": 14,
   "metadata": {},
   "outputs": [
    {
     "name": "stdout",
     "output_type": "stream",
     "text": [
      "151\n",
      "[1812 1813 1814 1815 1816 1817 1818 1819 1820 1821 1822 1823 1824 1825\n",
      " 1826 1827 1828 1829 1830 1831 1832 1833 1834 1835 1836 1837 1838 1839\n",
      " 1840 1841 1842 1843 1844 1845 1846 1847 1848 1849 1850 1851 1852 1853\n",
      " 1854 1855 1856 1857 1858 1859 1860 1861 1862 1863 1864 1865 1866 1867\n",
      " 1868 1869 1870 1871 1872 1873 1874 1875 1876 1877 1878 1879 1880 1881\n",
      " 1882 1883 1884 1885 1886 1887 1888 1889 1890 1891 1892 1893 1894 1895\n",
      " 1896 1897 1898 1899 1900 1901 1902 1903 1904 1905 1906 1907 1908 1909\n",
      " 1910 1911 1912 1913 1914 1915 1916 1917 1918 1919 1920 1921 1922 1923\n",
      " 1924 1925 1926 1927 1928 1929 1930 1931 1932 1933 1934 1935 1936 1937\n",
      " 1938 1939 1940 1941 1942 1943 1944 1945 1946 1947 1948 1949 1950 1951\n",
      " 1952 1953 1954 1955 1956 1957 1958 1959 1960 1961 1962]\n",
      "755\n",
      "[ 755  756  757  758  759  760  761  762  763  764  765  766  767  768\n",
      "  769  770  771  772  773  774  775  776  777  778  779  780  781  782\n",
      "  783  784  785  786  787  788  789  790  791  792  793  794  795  796\n",
      "  797  798  799  800  801  802  803  804  805  806  807  808  809  810\n",
      "  811  812  813  814  815  816  817  818  819  820  821  822  823  824\n",
      "  825  826  827  828  829  830  831  832  833  834  835  836  837  838\n",
      "  839  840  841  842  843  844  845  846  847  848  849  850  851  852\n",
      "  853  854  855  856  857  858  859  860  861  862  863  864  865  866\n",
      "  867  868  869  870  871  872  873  874  875  876  877  878  879  880\n",
      "  881  882  883  884  885  886  887  888  889  890  891  892  893  894\n",
      "  895  896  897  898  899  900  901  902  903  904  905  906  907  908\n",
      "  909  910  911  912  913  914  915  916  917  918  919  920  921  922\n",
      "  923  924  925  926  927  928  929  930  931  932  933  934  935  936\n",
      "  937  938  939  940  941  942  943  944  945  946  947  948  949  950\n",
      "  951  952  953  954  955  956  957  958  959  960  961  962  963  964\n",
      "  965  966  967  968  969  970  971  972  973  974  975  976  977  978\n",
      "  979  980  981  982  983  984  985  986  987  988  989  990  991  992\n",
      "  993  994  995  996  997  998  999 1000 1001 1002 1003 1004 1005 1006\n",
      " 1007 1008 1009 1010 1011 1012 1013 1014 1015 1016 1017 1018 1019 1020\n",
      " 1021 1022 1023 1024 1025 1026 1027 1028 1029 1030 1031 1032 1033 1034\n",
      " 1035 1036 1037 1038 1039 1040 1041 1042 1043 1044 1045 1046 1047 1048\n",
      " 1049 1050 1051 1052 1053 1054 1055 1056 1057 1058 1059 1060 1061 1062\n",
      " 1063 1064 1065 1066 1067 1068 1069 1070 1071 1072 1073 1074 1075 1076\n",
      " 1077 1078 1079 1080 1081 1082 1083 1084 1085 1086 1087 1088 1089 1090\n",
      " 1091 1092 1093 1094 1095 1096 1097 1098 1099 1100 1101 1102 1103 1104\n",
      " 1105 1106 1107 1108 1109 1110 1111 1112 1113 1114 1115 1116 1117 1118\n",
      " 1119 1120 1121 1122 1123 1124 1125 1126 1127 1128 1129 1130 1131 1132\n",
      " 1133 1134 1135 1136 1137 1138 1139 1140 1141 1142 1143 1144 1145 1146\n",
      " 1147 1148 1149 1150 1151 1152 1153 1154 1155 1156 1157 1158 1159 1160\n",
      " 1161 1162 1163 1164 1165 1166 1167 1168 1169 1170 1171 1172 1173 1174\n",
      " 1175 1176 1177 1178 1179 1180 1181 1182 1183 1184 1185 1186 1187 1188\n",
      " 1189 1190 1191 1192 1193 1194 1195 1196 1197 1198 1199 1200 1201 1202\n",
      " 1203 1204 1205 1206 1207 1208 1209 1210 1211 1212 1213 1214 1215 1216\n",
      " 1217 1218 1219 1220 1221 1222 1223 1224 1225 1226 1227 1228 1229 1230\n",
      " 1231 1232 1233 1234 1235 1236 1237 1238 1239 1240 1241 1242 1243 1244\n",
      " 1245 1246 1247 1248 1249 1250 1251 1252 1253 1254 1255 1256 1257 1258\n",
      " 1259 1260 1261 1262 1263 1264 1265 1266 1267 1268 1269 1270 1271 1272\n",
      " 1273 1274 1275 1276 1277 1278 1279 1280 1281 1282 1283 1284 1285 1286\n",
      " 1287 1288 1289 1290 1291 1292 1293 1294 1295 1296 1297 1298 1299 1300\n",
      " 1301 1302 1303 1304 1305 1306 1307 1308 1309 1310 1311 1312 1313 1314\n",
      " 1315 1316 1317 1318 1319 1320 1321 1322 1323 1324 1325 1326 1327 1328\n",
      " 1329 1330 1331 1332 1333 1334 1335 1336 1337 1338 1339 1340 1341 1342\n",
      " 1343 1344 1345 1346 1347 1348 1349 1350 1351 1352 1353 1354 1355 1356\n",
      " 1357 1358 1812 1813 1814 1815 1816 1817 1818 1819 1820 1821 1822 1823\n",
      " 1824 1825 1826 1827 1828 1829 1830 1831 1832 1833 1834 1835 1836 1837\n",
      " 1838 1839 1840 1841 1842 1843 1844 1845 1846 1847 1848 1849 1850 1851\n",
      " 1852 1853 1854 1855 1856 1857 1858 1859 1860 1861 1862 1863 1864 1865\n",
      " 1866 1867 1868 1869 1870 1871 1872 1873 1874 1875 1876 1877 1878 1879\n",
      " 1880 1881 1882 1883 1884 1885 1886 1887 1888 1889 1890 1891 1892 1893\n",
      " 1894 1895 1896 1897 1898 1899 1900 1901 1902 1903 1904 1905 1906 1907\n",
      " 1908 1909 1910 1911 1912 1913 1914 1915 1916 1917 1918 1919 1920 1921\n",
      " 1922 1923 1924 1925 1926 1927 1928 1929 1930 1931 1932 1933 1934 1935\n",
      " 1936 1937 1938 1939 1940 1941 1942 1943 1944 1945 1946 1947 1948 1949\n",
      " 1950 1951 1952 1953 1954 1955 1956 1957 1958 1959 1960 1961 1962]\n"
     ]
    }
   ],
   "source": [
    "FILEPATH = 'data/CMIP_train.nc'\n",
    "FILE = nc.Dataset(FILEPATH)\n",
    "keys_ = ['t300', 'ua']\n",
    "year = np.array([1])\n",
    "\n",
    "for key in keys_:\n",
    "    tmp1 = np.array(FILE.variables[key][:])\n",
    "    all_data = np.where(np.isnan(tmp1))\n",
    "\n",
    "    data = all_data[0]\n",
    "    year = np.append(year, data)\n",
    "    print(len(np.unique(year[1:])))\n",
    "\n",
    "    print(np.unique(year[1:]))"
   ]
  },
  {
   "cell_type": "code",
   "execution_count": null,
   "metadata": {},
   "outputs": [],
   "source": [
    "#     for col in range(4):\n",
    "#         if col == 1:\n",
    "#             continue\n",
    "#         data = pd.DataFrame({'value' : all_data[col]})\n",
    "        \n",
    "#         quartiles = pd.cut(data.value, 10, precision=0)\n",
    "#         data_grouped = data.value.groupby(quartiles)\n",
    "#         if col == 0:\n",
    "#             print('{} year distribution is : '.format(key))\n",
    "#         if col == 2:\n",
    "#             print('{} lat distribution is : '.format(key))\n",
    "#         if col == 3:\n",
    "#             print('{} lon distribution is : '.format(key))\n",
    "#         print(data_grouped.apply(get_status).unstack()) "
   ]
  },
  {
   "cell_type": "code",
   "execution_count": 123,
   "metadata": {},
   "outputs": [
    {
     "data": {
      "text/plain": [
       "array([[ 0.,  1.,  2.,  3.,  4.],\n",
       "       [ 5.,  6.,  7.,  8.,  9.],\n",
       "       [10., 11., 12., 13., 14.],\n",
       "       [15., 16., 17., 18., 19.],\n",
       "       [20., 21., 22., 23., 24.],\n",
       "       [25., 26., 27., 28., 29.],\n",
       "       [30., 31., 32., 33., 34.],\n",
       "       [35., 36., 37., 38., 39.],\n",
       "       [40., 41., 42., 43., 44.],\n",
       "       [45., 46., 47., 48., 49.],\n",
       "       [50., 51., 52., 53., 54.],\n",
       "       [55., 56., 57., 58., 59.],\n",
       "       [60., 61., 62., 63., 64.],\n",
       "       [65., 66., 67., 68., 69.],\n",
       "       [70., 71., 72., 73., 74.],\n",
       "       [75., 76., 77., 78., 79.],\n",
       "       [80., 81., 82., 83., 84.],\n",
       "       [85., 86., 87., 88., 89.],\n",
       "       [90., 91., 92., 93., 94.],\n",
       "       [95., 96., 97., 98., 99.]])"
      ]
     },
     "execution_count": 123,
     "metadata": {},
     "output_type": "execute_result"
    }
   ],
   "source": [
    "data = np.array(range(100), dtype=np.float).reshape(20, 5)\n",
    "data"
   ]
  },
  {
   "cell_type": "code",
   "execution_count": 124,
   "metadata": {},
   "outputs": [
    {
     "data": {
      "text/plain": [
       "array([ 0.,  5., 10., 15., 20., 25., 30., 35., 40., 45., 50., 55., 60.,\n",
       "       65., 70., 75., 80., 85., 90., 95.])"
      ]
     },
     "execution_count": 124,
     "metadata": {},
     "output_type": "execute_result"
    }
   ],
   "source": [
    "data[:, 0]"
   ]
  },
  {
   "cell_type": "code",
   "execution_count": 17,
   "metadata": {},
   "outputs": [
    {
     "name": "stdout",
     "output_type": "stream",
     "text": [
      "1 0 150\n",
      "2 151 301\n",
      "3 302 452\n",
      "4 453 603\n",
      "5 604 754\n",
      "6 755 905\n",
      "7 906 1056\n",
      "8 1057 1207\n",
      "9 1208 1358\n",
      "10 1359 1509\n",
      "11 1510 1660\n",
      "12 1661 1811\n",
      "13 1812 1962\n",
      "14 1963 2113\n",
      "15 2114 2264\n"
     ]
    }
   ],
   "source": [
    "cnt = 0\n",
    "for i in range (1, 16):\n",
    "    print(i, cnt, cnt + 150)\n",
    "    cnt += 151"
   ]
  },
  {
   "cell_type": "code",
   "execution_count": null,
   "metadata": {},
   "outputs": [],
   "source": []
  }
 ],
 "metadata": {
  "kernelspec": {
   "display_name": "Python 3",
   "language": "python",
   "name": "python3"
  },
  "language_info": {
   "codemirror_mode": {
    "name": "ipython",
    "version": 3
   },
   "file_extension": ".py",
   "mimetype": "text/x-python",
   "name": "python",
   "nbconvert_exporter": "python",
   "pygments_lexer": "ipython3",
   "version": "3.8.1"
  }
 },
 "nbformat": 4,
 "nbformat_minor": 4
}
