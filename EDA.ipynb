{
 "cells": [
  {
   "cell_type": "markdown",
   "metadata": {},
   "source": [
    "# 这里是练习代码，正式代码在下文"
   ]
  },
  {
   "cell_type": "code",
   "execution_count": 7,
   "metadata": {},
   "outputs": [],
   "source": [
    "import netCDF4 as nc\n",
    "import numpy as np\n",
    "import pandas as pd"
   ]
  },
  {
   "cell_type": "markdown",
   "metadata": {},
   "source": [
    "# 训练数据"
   ]
  },
  {
   "cell_type": "code",
   "execution_count": 9,
   "metadata": {},
   "outputs": [],
   "source": [
    "FILEPATH = 'data/SODA_train.nc'\n",
    "FILE = nc.Dataset(FILEPATH)"
   ]
  },
  {
   "cell_type": "code",
   "execution_count": 10,
   "metadata": {},
   "outputs": [
    {
     "data": {
      "text/plain": [
       "<class 'netCDF4._netCDF4.Dataset'>\n",
       "root group (NETCDF4 data model, file format HDF5):\n",
       "    dimensions(sizes): year(100), month(36), lat(24), lon(72)\n",
       "    variables(dimensions): float32 sst(year, month, lat, lon), float32 t300(year, month, lat, lon), float64 ua(year, month, lat, lon), float64 va(year, month, lat, lon), int32 year(year), int32 month(month), float64 lat(lat), float64 lon(lon)\n",
       "    groups: "
      ]
     },
     "execution_count": 10,
     "metadata": {},
     "output_type": "execute_result"
    }
   ],
   "source": [
    "FILE"
   ]
  },
  {
   "cell_type": "markdown",
   "metadata": {},
   "source": [
    "### 变量含义：温度异常，热含量异常，纬向风异常，经向风异常，年，月，经度，纬度"
   ]
  },
  {
   "cell_type": "code",
   "execution_count": 11,
   "metadata": {},
   "outputs": [
    {
     "data": {
      "text/plain": [
       "dict_keys(['sst', 't300', 'ua', 'va', 'year', 'month', 'lat', 'lon'])"
      ]
     },
     "execution_count": 11,
     "metadata": {},
     "output_type": "execute_result"
    }
   ],
   "source": [
    "FILE.variables.keys()"
   ]
  },
  {
   "cell_type": "markdown",
   "metadata": {},
   "source": [
    "### 数据维度 ：year, month, lat, lon"
   ]
  },
  {
   "cell_type": "code",
   "execution_count": 12,
   "metadata": {},
   "outputs": [
    {
     "data": {
      "text/plain": [
       "{'sst': <class 'netCDF4._netCDF4.Variable'>\n",
       " float32 sst(year, month, lat, lon)\n",
       "     _FillValue: nan\n",
       " unlimited dimensions: \n",
       " current shape = (100, 36, 24, 72)\n",
       " filling on, 't300': <class 'netCDF4._netCDF4.Variable'>\n",
       " float32 t300(year, month, lat, lon)\n",
       "     _FillValue: nan\n",
       " unlimited dimensions: \n",
       " current shape = (100, 36, 24, 72)\n",
       " filling on, 'ua': <class 'netCDF4._netCDF4.Variable'>\n",
       " float64 ua(year, month, lat, lon)\n",
       "     _FillValue: nan\n",
       " unlimited dimensions: \n",
       " current shape = (100, 36, 24, 72)\n",
       " filling on, 'va': <class 'netCDF4._netCDF4.Variable'>\n",
       " float64 va(year, month, lat, lon)\n",
       "     _FillValue: nan\n",
       " unlimited dimensions: \n",
       " current shape = (100, 36, 24, 72)\n",
       " filling on, 'year': <class 'netCDF4._netCDF4.Variable'>\n",
       " int32 year(year)\n",
       " unlimited dimensions: \n",
       " current shape = (100,)\n",
       " filling on, default _FillValue of -2147483647 used, 'month': <class 'netCDF4._netCDF4.Variable'>\n",
       " int32 month(month)\n",
       " unlimited dimensions: \n",
       " current shape = (36,)\n",
       " filling on, default _FillValue of -2147483647 used, 'lat': <class 'netCDF4._netCDF4.Variable'>\n",
       " float64 lat(lat)\n",
       "     _FillValue: nan\n",
       " unlimited dimensions: \n",
       " current shape = (24,)\n",
       " filling on, 'lon': <class 'netCDF4._netCDF4.Variable'>\n",
       " float64 lon(lon)\n",
       "     _FillValue: nan\n",
       " unlimited dimensions: \n",
       " current shape = (72,)\n",
       " filling on}"
      ]
     },
     "execution_count": 12,
     "metadata": {},
     "output_type": "execute_result"
    }
   ],
   "source": [
    "FILE.variables"
   ]
  },
  {
   "cell_type": "markdown",
   "metadata": {},
   "source": [
    "### 查看温度异常数据"
   ]
  },
  {
   "cell_type": "code",
   "execution_count": 13,
   "metadata": {},
   "outputs": [],
   "source": [
    "sst = FILE['sst']"
   ]
  },
  {
   "cell_type": "code",
   "execution_count": 14,
   "metadata": {},
   "outputs": [
    {
     "data": {
      "text/plain": [
       "<class 'netCDF4._netCDF4.Variable'>\n",
       "float32 sst(year, month, lat, lon)\n",
       "    _FillValue: nan\n",
       "unlimited dimensions: \n",
       "current shape = (100, 36, 24, 72)\n",
       "filling on"
      ]
     },
     "execution_count": 14,
     "metadata": {},
     "output_type": "execute_result"
    }
   ],
   "source": [
    "sst"
   ]
  },
  {
   "cell_type": "code",
   "execution_count": 15,
   "metadata": {},
   "outputs": [],
   "source": [
    "sst_data = sst[:]"
   ]
  },
  {
   "cell_type": "code",
   "execution_count": 16,
   "metadata": {},
   "outputs": [
    {
     "data": {
      "text/plain": [
       "(100, 36, 24, 72)"
      ]
     },
     "execution_count": 16,
     "metadata": {},
     "output_type": "execute_result"
    }
   ],
   "source": [
    "sst_data.shape"
   ]
  },
  {
   "cell_type": "markdown",
   "metadata": {},
   "source": [
    "### 取出这个维度的数据\n",
    "\n",
    "另外，如果数据异常，则：真实值 = 打包值 * scale_factor + add_offset"
   ]
  },
  {
   "cell_type": "code",
   "execution_count": 18,
   "metadata": {},
   "outputs": [
    {
     "data": {
      "text/plain": [
       "1.6091517"
      ]
     },
     "execution_count": 18,
     "metadata": {},
     "output_type": "execute_result"
    }
   ],
   "source": [
    "sst_data[0, 0, 1, 1]"
   ]
  },
  {
   "cell_type": "markdown",
   "metadata": {},
   "source": [
    "### 纬度数据\n",
    "\n",
    "南纬是负，北纬是正，东经是正，西经是负"
   ]
  },
  {
   "cell_type": "code",
   "execution_count": 19,
   "metadata": {},
   "outputs": [],
   "source": [
    "lat_data = FILE.variables['lat'][:]"
   ]
  },
  {
   "cell_type": "code",
   "execution_count": 20,
   "metadata": {},
   "outputs": [
    {
     "data": {
      "text/plain": [
       "(24,)"
      ]
     },
     "execution_count": 20,
     "metadata": {},
     "output_type": "execute_result"
    }
   ],
   "source": [
    "lat_data.shape"
   ]
  },
  {
   "cell_type": "code",
   "execution_count": 22,
   "metadata": {},
   "outputs": [
    {
     "data": {
      "text/plain": [
       "masked_array(data=[-55., -50., -45., -40., -35., -30., -25., -20., -15.,\n",
       "                   -10.,  -5.,   0.,   5.,  10.,  15.,  20.,  25.,  30.,\n",
       "                    35.,  40.,  45.,  50.,  55.,  60.],\n",
       "             mask=False,\n",
       "       fill_value=1e+20)"
      ]
     },
     "execution_count": 22,
     "metadata": {},
     "output_type": "execute_result"
    }
   ],
   "source": [
    "lat_data"
   ]
  },
  {
   "cell_type": "markdown",
   "metadata": {},
   "source": [
    "### 经度数据"
   ]
  },
  {
   "cell_type": "code",
   "execution_count": 24,
   "metadata": {},
   "outputs": [
    {
     "data": {
      "text/plain": [
       "masked_array(data=[  0.,   5.,  10.,  15.,  20.,  25.,  30.,  35.,  40.,\n",
       "                    45.,  50.,  55.,  60.,  65.,  70.,  75.,  80.,  85.,\n",
       "                    90.,  95., 100., 105., 110., 115., 120., 125., 130.,\n",
       "                   135., 140., 145., 150., 155., 160., 165., 170., 175.,\n",
       "                   180., 185., 190., 195., 200., 205., 210., 215., 220.,\n",
       "                   225., 230., 235., 240., 245., 250., 255., 260., 265.,\n",
       "                   270., 275., 280., 285., 290., 295., 300., 305., 310.,\n",
       "                   315., 320., 325., 330., 335., 340., 345., 350., 355.],\n",
       "             mask=False,\n",
       "       fill_value=1e+20)"
      ]
     },
     "execution_count": 24,
     "metadata": {},
     "output_type": "execute_result"
    }
   ],
   "source": [
    "lon = FILE.variables['lon'][:]\n",
    "lon.shape\n",
    "lon"
   ]
  },
  {
   "cell_type": "markdown",
   "metadata": {},
   "source": [
    "### 年份\n",
    "\n",
    "注意：15 个为一组模式"
   ]
  },
  {
   "cell_type": "code",
   "execution_count": 26,
   "metadata": {},
   "outputs": [],
   "source": [
    "year_data = FILE.variables['year'][:]"
   ]
  },
  {
   "cell_type": "code",
   "execution_count": 27,
   "metadata": {},
   "outputs": [
    {
     "data": {
      "text/plain": [
       "masked_array(data=[  1,   2,   3,   4,   5,   6,   7,   8,   9,  10,  11,\n",
       "                    12,  13,  14,  15,  16,  17,  18,  19,  20,  21,  22,\n",
       "                    23,  24,  25,  26,  27,  28,  29,  30,  31,  32,  33,\n",
       "                    34,  35,  36,  37,  38,  39,  40,  41,  42,  43,  44,\n",
       "                    45,  46,  47,  48,  49,  50,  51,  52,  53,  54,  55,\n",
       "                    56,  57,  58,  59,  60,  61,  62,  63,  64,  65,  66,\n",
       "                    67,  68,  69,  70,  71,  72,  73,  74,  75,  76,  77,\n",
       "                    78,  79,  80,  81,  82,  83,  84,  85,  86,  87,  88,\n",
       "                    89,  90,  91,  92,  93,  94,  95,  96,  97,  98,  99,\n",
       "                   100],\n",
       "             mask=False,\n",
       "       fill_value=999999)"
      ]
     },
     "execution_count": 27,
     "metadata": {},
     "output_type": "execute_result"
    }
   ],
   "source": [
    "year_data.shape\n",
    "year_data"
   ]
  },
  {
   "cell_type": "markdown",
   "metadata": {},
   "source": [
    "# 测试数据"
   ]
  },
  {
   "cell_type": "code",
   "execution_count": 31,
   "metadata": {},
   "outputs": [],
   "source": [
    "LABELPATH = 'data/SODA_label.nc'\n",
    "LAEBL_FILE = nc.Dataset(LABELPATH)"
   ]
  },
  {
   "cell_type": "code",
   "execution_count": 32,
   "metadata": {},
   "outputs": [
    {
     "data": {
      "text/plain": [
       "<class 'netCDF4._netCDF4.Dataset'>\n",
       "root group (NETCDF4 data model, file format HDF5):\n",
       "    dimensions(sizes): year(100), month(36)\n",
       "    variables(dimensions): float64 nino(year, month), int32 year(year), int32 month(month)\n",
       "    groups: "
      ]
     },
     "execution_count": 32,
     "metadata": {},
     "output_type": "execute_result"
    }
   ],
   "source": [
    "LAEBL_FILE"
   ]
  },
  {
   "cell_type": "code",
   "execution_count": 34,
   "metadata": {},
   "outputs": [
    {
     "data": {
      "text/plain": [
       "dict_keys(['nino', 'year', 'month'])"
      ]
     },
     "execution_count": 34,
     "metadata": {},
     "output_type": "execute_result"
    }
   ],
   "source": [
    "LAEBL_FILE.variables.keys()"
   ]
  },
  {
   "cell_type": "code",
   "execution_count": 35,
   "metadata": {},
   "outputs": [],
   "source": [
    "nino_data = LAEBL_FILE.variables['nino'][:]"
   ]
  },
  {
   "cell_type": "code",
   "execution_count": 37,
   "metadata": {},
   "outputs": [
    {
     "data": {
      "text/plain": [
       "(100, 36)"
      ]
     },
     "execution_count": 37,
     "metadata": {},
     "output_type": "execute_result"
    }
   ],
   "source": [
    "nino_data.shape"
   ]
  },
  {
   "cell_type": "markdown",
   "metadata": {},
   "source": [
    "### 第一年，第一个模式，这 36 个月的异常指数"
   ]
  },
  {
   "cell_type": "code",
   "execution_count": 44,
   "metadata": {},
   "outputs": [
    {
     "data": {
      "text/plain": [
       "masked_array(data=[-0.40720701, -0.20244436, -0.10386104, -0.02910841,\n",
       "                   -0.13252996, -0.25527564, -0.3326247 , -0.26293179,\n",
       "                   -0.08058987,  0.10612228,  0.21165498,  0.16504486,\n",
       "                    0.06697161,  0.00999126, -0.00164753, -0.06598581,\n",
       "                   -0.14728385, -0.1915542 , -0.17029583, -0.19376083,\n",
       "                   -0.27808595, -0.39393583, -0.49975768, -0.58400702,\n",
       "                   -0.73201811, -0.72508991, -0.58416802, -0.31754819,\n",
       "                   -0.12046373, -0.03802495,  0.013173  ,  0.06823147,\n",
       "                    0.0597352 ,  0.02755602,  0.011619  , -0.04931002],\n",
       "             mask=False,\n",
       "       fill_value=1e+20)"
      ]
     },
     "execution_count": 44,
     "metadata": {},
     "output_type": "execute_result"
    }
   ],
   "source": [
    "nino_data[0]"
   ]
  },
  {
   "cell_type": "markdown",
   "metadata": {},
   "source": [
    "# 待做"
   ]
  },
  {
   "cell_type": "markdown",
   "metadata": {},
   "source": [
    "- [ ] 填充数据的处理，或者说，看看有多少填充数据，如何处理这些数据"
   ]
  },
  {
   "cell_type": "markdown",
   "metadata": {},
   "source": [
    " "
   ]
  },
  {
   "cell_type": "markdown",
   "metadata": {},
   "source": [
    " "
   ]
  },
  {
   "cell_type": "markdown",
   "metadata": {},
   "source": [
    " "
   ]
  },
  {
   "cell_type": "markdown",
   "metadata": {},
   "source": [
    "# 正式代码"
   ]
  },
  {
   "cell_type": "markdown",
   "metadata": {},
   "source": [
    "# SODA 数据集 EDA"
   ]
  },
  {
   "cell_type": "code",
   "execution_count": 1,
   "metadata": {},
   "outputs": [],
   "source": [
    "import netCDF4 as nc\n",
    "import numpy as np\n",
    "import pandas as pd\n",
    "from collections import Counter\n",
    "import matplotlib.pyplot as plt"
   ]
  },
  {
   "cell_type": "code",
   "execution_count": 2,
   "metadata": {},
   "outputs": [],
   "source": [
    "FILEPATH = 'data/SODA_train.nc'\n",
    "FILE = nc.Dataset(FILEPATH)"
   ]
  },
  {
   "cell_type": "markdown",
   "metadata": {},
   "source": [
    "## 查看数据维度"
   ]
  },
  {
   "cell_type": "code",
   "execution_count": 3,
   "metadata": {},
   "outputs": [
    {
     "name": "stdout",
     "output_type": "stream",
     "text": [
      "sst   data shape is : (100, 36, 24, 72)\n",
      "t300  data shape is : (100, 36, 24, 72)\n",
      "ua    data shape is : (100, 36, 24, 72)\n",
      "va    data shape is : (100, 36, 24, 72)\n",
      "year  data shape is : (100,)\n",
      "month data shape is : (36,)\n",
      "lat   data shape is : (24,)\n",
      "lon   data shape is : (72,)\n"
     ]
    }
   ],
   "source": [
    "for key in FILE.variables.keys():\n",
    "    print('{:<5}'.format(key), end=' data shape is : ')\n",
    "    print(FILE.variables[key][:].shape)"
   ]
  },
  {
   "cell_type": "markdown",
   "metadata": {},
   "source": [
    "## 填充值处理"
   ]
  },
  {
   "cell_type": "code",
   "execution_count": 4,
   "metadata": {},
   "outputs": [
    {
     "name": "stdout",
     "output_type": "stream",
     "text": [
      "sst   has filled value, which is nan, the number of filled value is 0\n",
      "t300  has filled value, which is nan, the number of filled value is 0\n",
      "ua    has filled value, which is nan, the number of filled value is 0\n",
      "va    has filled value, which is nan, the number of filled value is 0\n",
      "year  doesn't has filled value\n",
      "month doesn't has filled value\n",
      "lat   has filled value, which is nan, the number of filled value is 0\n",
      "lon   has filled value, which is nan, the number of filled value is 0\n"
     ]
    }
   ],
   "source": [
    "for key in FILE.variables.keys():\n",
    "    a = FILE[key]\n",
    "    if hasattr(a, '_FillValue'):\n",
    "        print('{:<5} has filled value, which is {}'.format(key, a._FillValue), end=', ')\n",
    "        print('the number of filled value is {}'.format(np.isnan(np.array(FILE.variables[key][:])).sum()))\n",
    "    else:\n",
    "        print('{:<5} doesn\\'t has filled value'.format(key))"
   ]
  },
  {
   "cell_type": "markdown",
   "metadata": {},
   "source": [
    "## 年份处理"
   ]
  },
  {
   "cell_type": "markdown",
   "metadata": {},
   "source": [
    "查看数据一共有多少年的"
   ]
  },
  {
   "cell_type": "code",
   "execution_count": 5,
   "metadata": {},
   "outputs": [
    {
     "name": "stdout",
     "output_type": "stream",
     "text": [
      "100 years in total.\n"
     ]
    }
   ],
   "source": [
    "year_data = np.array(FILE.variables['year'][:])\n",
    "print(\"{} years in total.\".format(len(year_data)))"
   ]
  },
  {
   "cell_type": "markdown",
   "metadata": {},
   "source": [
    "有无重复年"
   ]
  },
  {
   "cell_type": "code",
   "execution_count": 6,
   "metadata": {},
   "outputs": [
    {
     "name": "stdout",
     "output_type": "stream",
     "text": [
      "All year variables appear once. \n"
     ]
    }
   ],
   "source": [
    "year_cnt = Counter(year_data.flatten())\n",
    "year_flag = 0\n",
    "for key, value in year_cnt.items():\n",
    "    if value > 1:\n",
    "        year_flag = 1\n",
    "        print(\"{} appears {} times\".format(key, value))\n",
    "if year_flag == 0:\n",
    "    print('All year variables appear once. ')"
   ]
  },
  {
   "cell_type": "markdown",
   "metadata": {},
   "source": [
    "## 月份处理\n",
    "\n",
    "内容同上"
   ]
  },
  {
   "cell_type": "code",
   "execution_count": 7,
   "metadata": {},
   "outputs": [
    {
     "name": "stdout",
     "output_type": "stream",
     "text": [
      "36 months in total.\n"
     ]
    }
   ],
   "source": [
    "month_data = np.array(FILE.variables['month'][:])\n",
    "print(\"{} months in total.\".format(len(month_data)))"
   ]
  },
  {
   "cell_type": "code",
   "execution_count": 8,
   "metadata": {},
   "outputs": [
    {
     "name": "stdout",
     "output_type": "stream",
     "text": [
      "All month variables appear once. \n"
     ]
    }
   ],
   "source": [
    "month_cnt = Counter(month_data.flatten())\n",
    "month_flag = 0\n",
    "for key, value in month_cnt.items():\n",
    "    if value > 1:\n",
    "        month_flag = 1\n",
    "        print(\"{} appears {} times\".format(key, value))\n",
    "if month_flag == 0:\n",
    "    print('All month variables appear once. ')"
   ]
  },
  {
   "cell_type": "markdown",
   "metadata": {},
   "source": [
    "## 经度处理"
   ]
  },
  {
   "cell_type": "code",
   "execution_count": 9,
   "metadata": {},
   "outputs": [],
   "source": [
    "lon_data = pd.DataFrame({'value' : np.array(FILE.variables['lon'][:])})\n",
    "# 经度分为 10 个区间\n",
    "quartiles = pd.cut(lon_data.value, 10, precision=0)"
   ]
  },
  {
   "cell_type": "code",
   "execution_count": 10,
   "metadata": {},
   "outputs": [
    {
     "name": "stdout",
     "output_type": "stream",
     "text": [
      "longitude distribution is : \n",
      "                distribution : \n",
      "value                          \n",
      "(-0.0, 36.0]                  8\n",
      "(36.0, 71.0]                  7\n",
      "(71.0, 106.0]                 7\n",
      "(106.0, 142.0]                7\n",
      "(142.0, 178.0]                7\n",
      "(178.0, 213.0]                7\n",
      "(213.0, 248.0]                7\n",
      "(248.0, 284.0]                7\n",
      "(284.0, 320.0]                7\n",
      "(320.0, 355.0]                8\n"
     ]
    }
   ],
   "source": [
    "lon_grouped = lon_data.value.groupby(quartiles)\n",
    "def get_status(group):\n",
    "    return {'distribution : ' : group.count()}\n",
    "print('longitude distribution is : ')\n",
    "print(lon_grouped.apply(get_status).unstack())"
   ]
  },
  {
   "cell_type": "markdown",
   "metadata": {},
   "source": [
    "## 纬度处理"
   ]
  },
  {
   "cell_type": "code",
   "execution_count": 11,
   "metadata": {},
   "outputs": [],
   "source": [
    "lat_data = pd.DataFrame({'value' : np.array(FILE.variables['lat'][:])})\n",
    "# 纬度分为 10 个区间\n",
    "quartiles = pd.cut(lat_data.value, 10, precision=0)"
   ]
  },
  {
   "cell_type": "code",
   "execution_count": 12,
   "metadata": {},
   "outputs": [
    {
     "name": "stdout",
     "output_type": "stream",
     "text": [
      "latitude distribution is : \n",
      "                distribution : \n",
      "value                          \n",
      "(-55.0, -44.0]                3\n",
      "(-44.0, -32.0]                2\n",
      "(-32.0, -20.0]                2\n",
      "(-20.0, -9.0]                 3\n",
      "(-9.0, 2.0]                   2\n",
      "(2.0, 14.0]                   2\n",
      "(14.0, 26.0]                  3\n",
      "(26.0, 37.0]                  2\n",
      "(37.0, 48.0]                  2\n",
      "(48.0, 60.0]                  3\n"
     ]
    }
   ],
   "source": [
    "lat_grouped = lat_data.value.groupby(quartiles)\n",
    "print('latitude distribution is : ')\n",
    "print(lat_grouped.apply(get_status).unstack())"
   ]
  },
  {
   "cell_type": "markdown",
   "metadata": {},
   "source": [
    "## 温度异常处理"
   ]
  },
  {
   "cell_type": "code",
   "execution_count": 13,
   "metadata": {},
   "outputs": [],
   "source": [
    "sst_data = np.array(FILE.variables['sst'][:])"
   ]
  },
  {
   "cell_type": "markdown",
   "metadata": {},
   "source": [
    "### 查看重叠数据"
   ]
  },
  {
   "cell_type": "code",
   "execution_count": 14,
   "metadata": {},
   "outputs": [
    {
     "name": "stdout",
     "output_type": "stream",
     "text": [
      "[ 1.6091517   0.71986026  0.68220437  0.56383836  0.54306084  0.4583771\n",
      "  0.19450794  0.13238896  0.09940504 -0.1464066  -0.03570029  0.16862872\n",
      "  0.38840583  0.5491563   0.54565835  0.3754512   0.45127892  0.42569095\n",
      "  0.41107863  0.27990633  0.22299826  0.16423787  0.11990864  0.44018087\n",
      "  0.5232868   0.62889254  0.6486295   0.5473196   0.27443555  0.24724294\n",
      "  0.30485055  0.31458566  0.2601541   0.169106   -0.07069355  0.3209315 ]\n",
      "[ 0.38840583  0.5491563   0.54565835  0.3754512   0.45127892  0.42569095\n",
      "  0.41107863  0.27990633  0.22299826  0.16423787  0.11990864  0.44018087\n",
      "  0.5232868   0.62889254  0.6486295   0.5473196   0.27443555  0.24724294\n",
      "  0.30485055  0.31458566  0.2601541   0.169106   -0.07069355  0.3209315\n",
      "  0.14049093  0.38737735  0.36938617  0.15929121 -0.06760521 -0.16155241\n",
      " -0.03605766  0.11249857  0.01562759 -0.18102594 -0.03493248 -0.03082386]\n"
     ]
    }
   ],
   "source": [
    "print(sst_data[0, 0:36, 1, 1])\n",
    "print(sst_data[1, 0:36, 1, 1])"
   ]
  },
  {
   "cell_type": "code",
   "execution_count": 15,
   "metadata": {},
   "outputs": [
    {
     "name": "stdout",
     "output_type": "stream",
     "text": [
      "The number of sst is 6220800\n"
     ]
    }
   ],
   "source": [
    "sst_data = sst_data.flatten()\n",
    "print('The number of sst is {}'.format(len(sst_data)))"
   ]
  },
  {
   "cell_type": "code",
   "execution_count": 16,
   "metadata": {},
   "outputs": [
    {
     "name": "stdout",
     "output_type": "stream",
     "text": [
      "sst data distribution is : \n",
      "              distribution : \n",
      "value                        \n",
      "(-8.0, -6.0]               26\n",
      "(-6.0, -5.0]              175\n",
      "(-5.0, -3.0]             2547\n",
      "(-3.0, -2.0]            56830\n",
      "(-2.0, -0.0]          1759244\n",
      "(-0.0, 1.0]           4243581\n",
      "(1.0, 3.0]             150516\n",
      "(3.0, 4.0]               7450\n",
      "(4.0, 6.0]                363\n",
      "(6.0, 7.0]                 68\n"
     ]
    }
   ],
   "source": [
    "sst_data = pd.DataFrame({'value' : sst_data})\n",
    "quartiles = pd.cut(sst_data.value, 10, precision=0)\n",
    "sst_grouped = sst_data.value.groupby(quartiles)\n",
    "print('sst data distribution is : ')\n",
    "print(sst_grouped.apply(get_status).unstack())"
   ]
  },
  {
   "cell_type": "markdown",
   "metadata": {},
   "source": [
    "## 热含量异常处理"
   ]
  },
  {
   "cell_type": "code",
   "execution_count": 17,
   "metadata": {},
   "outputs": [
    {
     "name": "stdout",
     "output_type": "stream",
     "text": [
      "The number of t300 is 6220800\n"
     ]
    }
   ],
   "source": [
    "t300_data = np.array(FILE.variables['t300'][:])\n",
    "t300_data = t300_data.flatten()\n",
    "print('The number of t300 is {}'.format(len(t300_data)))"
   ]
  },
  {
   "cell_type": "code",
   "execution_count": 18,
   "metadata": {},
   "outputs": [
    {
     "name": "stdout",
     "output_type": "stream",
     "text": [
      "t300 data distribution is : \n",
      "              distribution : \n",
      "value                        \n",
      "(-6.0, -4.0]               60\n",
      "(-4.0, -3.0]              738\n",
      "(-3.0, -2.0]             9315\n",
      "(-2.0, -0.0]           546861\n",
      "(-0.0, 1.0]           5574643\n",
      "(1.0, 2.0]              85249\n",
      "(2.0, 3.0]               3221\n",
      "(3.0, 5.0]                479\n",
      "(5.0, 6.0]                185\n",
      "(6.0, 7.0]                 49\n"
     ]
    }
   ],
   "source": [
    "t300_data = pd.DataFrame({'value' : t300_data})\n",
    "quartiles = pd.cut(t300_data.value, 10, precision=0)\n",
    "t300_grouped = t300_data.value.groupby(quartiles)\n",
    "print('t300 data distribution is : ')\n",
    "print(t300_grouped.apply(get_status).unstack())"
   ]
  },
  {
   "cell_type": "markdown",
   "metadata": {},
   "source": [
    "## 纬向风异常处理"
   ]
  },
  {
   "cell_type": "code",
   "execution_count": 19,
   "metadata": {},
   "outputs": [
    {
     "name": "stdout",
     "output_type": "stream",
     "text": [
      "The number of ua is 6220800\n"
     ]
    }
   ],
   "source": [
    "ua_data = np.array(FILE.variables['ua'][:])\n",
    "ua_data = ua_data.flatten()\n",
    "print('The number of ua is {}'.format(len(ua_data)))"
   ]
  },
  {
   "cell_type": "code",
   "execution_count": 20,
   "metadata": {},
   "outputs": [
    {
     "name": "stdout",
     "output_type": "stream",
     "text": [
      "ua data distribution is : \n",
      "                distribution : \n",
      "value                          \n",
      "(-13.0, -11.0]              111\n",
      "(-11.0, -8.0]               750\n",
      "(-8.0, -6.0]               6101\n",
      "(-6.0, -3.0]              72193\n",
      "(-3.0, -1.0]            1326811\n",
      "(-1.0, 2.0]             4482793\n",
      "(2.0, 4.0]               311413\n",
      "(4.0, 7.0]                19408\n",
      "(7.0, 10.0]                1181\n",
      "(10.0, 12.0]                 39\n"
     ]
    }
   ],
   "source": [
    "ua_data = pd.DataFrame({'value' : ua_data})\n",
    "quartiles = pd.cut(ua_data.value, 10, precision=0)\n",
    "ua_grouped = ua_data.value.groupby(quartiles)\n",
    "print('ua data distribution is : ')\n",
    "print(ua_grouped.apply(get_status).unstack())"
   ]
  },
  {
   "cell_type": "markdown",
   "metadata": {},
   "source": [
    "## 经向风异常"
   ]
  },
  {
   "cell_type": "code",
   "execution_count": 21,
   "metadata": {},
   "outputs": [
    {
     "name": "stdout",
     "output_type": "stream",
     "text": [
      "The number of va is 6220800\n"
     ]
    }
   ],
   "source": [
    "va_data = np.array(FILE.variables['va'][:])\n",
    "va_data = va_data.flatten()\n",
    "print('The number of va is {}'.format(len(va_data)))"
   ]
  },
  {
   "cell_type": "code",
   "execution_count": 22,
   "metadata": {},
   "outputs": [
    {
     "name": "stdout",
     "output_type": "stream",
     "text": [
      "va data distribution is : \n",
      "               distribution : \n",
      "value                         \n",
      "(-12.0, -9.0]               18\n",
      "(-9.0, -7.0]               399\n",
      "(-7.0, -5.0]              4988\n",
      "(-5.0, -2.0]             92072\n",
      "(-2.0, 0.0]            3485534\n",
      "(0.0, 2.0]             2568450\n",
      "(2.0, 5.0]               65980\n",
      "(5.0, 7.0]                3221\n",
      "(7.0, 9.0]                 135\n",
      "(9.0, 12.0]                  3\n"
     ]
    }
   ],
   "source": [
    "va_data = pd.DataFrame({'value' : va_data})\n",
    "quartiles = pd.cut(va_data.value, 10, precision=0)\n",
    "va_grouped = va_data.value.groupby(quartiles)\n",
    "print('va data distribution is : ')\n",
    "print(va_grouped.apply(get_status).unstack())"
   ]
  },
  {
   "cell_type": "markdown",
   "metadata": {},
   "source": [
    "## 标签数据观察"
   ]
  },
  {
   "cell_type": "code",
   "execution_count": 23,
   "metadata": {},
   "outputs": [],
   "source": [
    "FILEPATH = 'data/SODA_label.nc'\n",
    "FILE = nc.Dataset(FILEPATH)"
   ]
  },
  {
   "cell_type": "code",
   "execution_count": 24,
   "metadata": {},
   "outputs": [
    {
     "data": {
      "text/plain": [
       "<class 'netCDF4._netCDF4.Dataset'>\n",
       "root group (NETCDF4 data model, file format HDF5):\n",
       "    dimensions(sizes): year(100), month(36)\n",
       "    variables(dimensions): float64 nino(year, month), int32 year(year), int32 month(month)\n",
       "    groups: "
      ]
     },
     "execution_count": 24,
     "metadata": {},
     "output_type": "execute_result"
    }
   ],
   "source": [
    "FILE"
   ]
  },
  {
   "cell_type": "code",
   "execution_count": 25,
   "metadata": {},
   "outputs": [
    {
     "name": "stdout",
     "output_type": "stream",
     "text": [
      "nino  data shape is : (100, 36)\n",
      "year  data shape is : (100,)\n",
      "month data shape is : (36,)\n"
     ]
    }
   ],
   "source": [
    "for key in FILE.variables.keys():\n",
    "    print('{:<5}'.format(key), end=' data shape is : ')\n",
    "    print(FILE.variables[key][:].shape)"
   ]
  },
  {
   "cell_type": "markdown",
   "metadata": {},
   "source": [
    "## 填充值处理"
   ]
  },
  {
   "cell_type": "code",
   "execution_count": 26,
   "metadata": {},
   "outputs": [
    {
     "name": "stdout",
     "output_type": "stream",
     "text": [
      "nino  has filled value, which is nan, the number of filled value is 0\n",
      "year  doesn't has filled value\n",
      "month doesn't has filled value\n"
     ]
    }
   ],
   "source": [
    "for key in FILE.variables.keys():\n",
    "    a = FILE[key]\n",
    "    if hasattr(a, '_FillValue'):\n",
    "        print('{:<5} has filled value, which is {}'.format(key, a._FillValue), end=', ')\n",
    "        print('the number of filled value is {}'.format(np.isnan(np.array(FILE.variables[key][:])).sum()))\n",
    "    else:\n",
    "        print('{:<5} doesn\\'t has filled value'.format(key))"
   ]
  },
  {
   "cell_type": "markdown",
   "metadata": {},
   "source": [
    "## 年份观察"
   ]
  },
  {
   "cell_type": "code",
   "execution_count": 27,
   "metadata": {},
   "outputs": [
    {
     "name": "stdout",
     "output_type": "stream",
     "text": [
      "All year variables appear once. \n"
     ]
    }
   ],
   "source": [
    "year_data = np.array(FILE.variables['year'][:])\n",
    "\n",
    "year_cnt = Counter(year_data.flatten())\n",
    "year_flag = 0\n",
    "for key, value in year_cnt.items():\n",
    "    if value > 1:\n",
    "        year_flag = 1\n",
    "        print(\"{} appears {} times\".format(key, value))\n",
    "if year_flag == 0:\n",
    "    print('All year variables appear once. ')"
   ]
  },
  {
   "cell_type": "markdown",
   "metadata": {},
   "source": [
    "## 月份观察"
   ]
  },
  {
   "cell_type": "code",
   "execution_count": 28,
   "metadata": {},
   "outputs": [
    {
     "name": "stdout",
     "output_type": "stream",
     "text": [
      "All month variables appear once. \n"
     ]
    }
   ],
   "source": [
    "month_data = np.array(FILE.variables['month'][:])\n",
    "\n",
    "month_cnt = Counter(month_data.flatten())\n",
    "month_flag = 0\n",
    "for key, value in month_cnt.items():\n",
    "    if value > 1:\n",
    "        month_flag = 1\n",
    "        print(\"{} appears {} times\".format(key, value))\n",
    "if month_flag == 0:\n",
    "    print('All month variables appear once. ')"
   ]
  },
  {
   "cell_type": "markdown",
   "metadata": {},
   "source": [
    "## nino 观察"
   ]
  },
  {
   "cell_type": "markdown",
   "metadata": {},
   "source": [
    "### 重叠数据"
   ]
  },
  {
   "cell_type": "code",
   "execution_count": 29,
   "metadata": {},
   "outputs": [
    {
     "name": "stdout",
     "output_type": "stream",
     "text": [
      "(100, 36)\n",
      "[-0.40720701 -0.20244436 -0.10386104 -0.02910841 -0.13252996 -0.25527564\n",
      " -0.3326247  -0.26293179 -0.08058987  0.10612228  0.21165498  0.16504486\n",
      "  0.06697161  0.00999126 -0.00164753 -0.06598581 -0.14728385 -0.1915542\n",
      " -0.17029583 -0.19376083 -0.27808595 -0.39393583 -0.49975768 -0.58400702\n",
      " -0.73201811 -0.72508991 -0.58416802 -0.31754819 -0.12046373 -0.03802495\n",
      "  0.013173    0.06823147  0.0597352   0.02755602  0.011619   -0.04931002]\n",
      "[ 0.06697161  0.00999126 -0.00164753 -0.06598581 -0.14728385 -0.1915542\n",
      " -0.17029583 -0.19376083 -0.27808595 -0.39393583 -0.49975768 -0.58400702\n",
      " -0.73201811 -0.72508991 -0.58416802 -0.31754819 -0.12046373 -0.03802495\n",
      "  0.013173    0.06823147  0.0597352   0.02755602  0.011619   -0.04931002\n",
      " -0.2593078  -0.56157684 -0.72061253 -0.67269957 -0.58430457 -0.5273878\n",
      " -0.4824861  -0.37052664 -0.28829426 -0.31192511 -0.36046785 -0.32623523]\n"
     ]
    }
   ],
   "source": [
    "nino_data = np.array(FILE.variables['nino'][:])\n",
    "print(nino_data.shape)\n",
    "print(nino_data[0])\n",
    "print(nino_data[1])"
   ]
  },
  {
   "cell_type": "code",
   "execution_count": 39,
   "metadata": {},
   "outputs": [
    {
     "name": "stdout",
     "output_type": "stream",
     "text": [
      "(1224,)\n"
     ]
    }
   ],
   "source": [
    "# 拼接数据\n",
    "label_data = [nino_data[0]] + [nino_data[i, 24:] for i in range(1, nino_data.shape[0])]\n",
    "label_data = np.concatenate(label_data, axis=0)\n",
    "print(label_data.shape)"
   ]
  },
  {
   "cell_type": "code",
   "execution_count": 40,
   "metadata": {},
   "outputs": [
    {
     "data": {
      "image/png": "[encoded data removed]",
      "text/plain": [
       "<Figure size 432x288 with 1 Axes>"
      ]
     },
     "metadata": {
      "needs_background": "light"
     },
     "output_type": "display_data"
    }
   ],
   "source": [
    "plt.plot(label_data, linewidth=1)\n",
    "plt.xlabel('Time / month')\n",
    "plt.ylabel('Nino')\n",
    "plt.show()"
   ]
  },
  {
   "cell_type": "code",
   "execution_count": null,
   "metadata": {},
   "outputs": [],
   "source": []
  }
 ],
 "metadata": {
  "kernelspec": {
   "display_name": "Python 3",
   "language": "python",
   "name": "python3"
  },
  "language_info": {
   "codemirror_mode": {
    "name": "ipython",
    "version": 3
   },
   "file_extension": ".py",
   "mimetype": "text/x-python",
   "name": "python",
   "nbconvert_exporter": "python",
   "pygments_lexer": "ipython3",
   "version": "3.8.1"
  }
 },
 "nbformat": 4,
 "nbformat_minor": 4
}
